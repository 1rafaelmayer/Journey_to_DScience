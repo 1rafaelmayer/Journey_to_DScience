{
  "nbformat": 4,
  "nbformat_minor": 0,
  "metadata": {
    "colab": {
      "name": "Testing WebScrapping.ipynb",
      "provenance": [],
      "authorship_tag": "ABX9TyPiBXmgA+McIEoHH3Y3jx/f",
      "include_colab_link": true
    },
    "kernelspec": {
      "name": "python3",
      "display_name": "Python 3"
    },
    "language_info": {
      "name": "python"
    }
  },
  "cells": [
    {
      "cell_type": "markdown",
      "metadata": {
        "id": "view-in-github",
        "colab_type": "text"
      },
      "source": [
        "<a href=\"https://colab.research.google.com/github/1rafaelmayer/Journey_to_DScience/blob/main/Testing_WebScrapping.ipynb\" target=\"_parent\"><img src=\"https://colab.research.google.com/assets/colab-badge.svg\" alt=\"Open In Colab\"/></a>"
      ]
    },
    {
      "cell_type": "markdown",
      "source": [
        "# Testing Web scrapping\n",
        "**Rafael A. Mayer**\n",
        "\n",
        "The goal of this project is to get familiar with Web scrapping techniques using python. "
      ],
      "metadata": {
        "id": "lZCfHNLnyHP4"
      }
    },
    {
      "cell_type": "markdown",
      "source": [
        "First, let's import some libraries. "
      ],
      "metadata": {
        "id": "DQ6BDvs3yi_a"
      }
    },
    {
      "cell_type": "code",
      "source": [
        ""
      ],
      "metadata": {
        "id": "COT-jYXeyOJa"
      },
      "execution_count": null,
      "outputs": []
    }
  ]
}