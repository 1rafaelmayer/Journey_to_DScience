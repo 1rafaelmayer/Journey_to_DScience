{
 "cells": [
  {
   "cell_type": "markdown",
   "id": "ef331365",
   "metadata": {
    "papermill": {
     "duration": 0.038128,
     "end_time": "2022-02-17T12:44:03.234437",
     "exception": false,
     "start_time": "2022-02-17T12:44:03.196309",
     "status": "completed"
    },
    "tags": []
   },
   "source": [
    "# Salaries of Data Professionals in India\n",
    "**Rafael Mayer** [(linkedin)](http://https://www.linkedin.com/in/rafaelmayer-physicsengineer/)"
   ]
  },
  {
   "cell_type": "markdown",
   "id": "dcf8330d",
   "metadata": {
    "papermill": {
     "duration": 0.023393,
     "end_time": "2022-02-17T12:44:03.285527",
     "exception": false,
     "start_time": "2022-02-17T12:44:03.262134",
     "status": "completed"
    },
    "tags": []
   },
   "source": [
    "## **Summary**\n",
    "\n",
    "#### Salary is always one of the main topics when deciding to change career. In this notebook, I explore a dataset that contains the salaries of data professionals in India. The results show that data scientists earn more than other data professionals, but the salary in India for this career is about one tenth of the average salary in the USA. Moreover, the standard deviation for this career in India is significantly higher than others data professionals, which indicates that progression through the career is more accessible. Finally, I show that data professionals earn about 10% more in Bangalore than in other industrial centers in India."
   ]
  },
  {
   "cell_type": "markdown",
   "id": "d22818eb",
   "metadata": {
    "papermill": {
     "duration": 0.024659,
     "end_time": "2022-02-17T12:44:03.334186",
     "exception": false,
     "start_time": "2022-02-17T12:44:03.309527",
     "status": "completed"
    },
    "tags": []
   },
   "source": [
    "## Importing libraries\n",
    "Pandas, numpy, requests, tkinter, seaborn and matplotlib"
   ]
  },
  {
   "cell_type": "code",
   "execution_count": 1,
   "id": "6eed4dd8",
   "metadata": {
    "_cell_guid": "b1076dfc-b9ad-4769-8c92-a6c4dae69d19",
    "_uuid": "8f2839f25d086af736a60e9eeb907d3b93b6e0e5",
    "execution": {
     "iopub.execute_input": "2022-02-17T12:44:03.396839Z",
     "iopub.status.busy": "2022-02-17T12:44:03.395934Z",
     "iopub.status.idle": "2022-02-17T12:44:03.410154Z",
     "shell.execute_reply": "2022-02-17T12:44:03.410983Z",
     "shell.execute_reply.started": "2022-02-17T11:44:05.303856Z"
    },
    "papermill": {
     "duration": 0.048688,
     "end_time": "2022-02-17T12:44:03.411418",
     "exception": false,
     "start_time": "2022-02-17T12:44:03.362730",
     "status": "completed"
    },
    "tags": []
   },
   "outputs": [
    {
     "name": "stdout",
     "output_type": "stream",
     "text": [
      "/kaggle/input/analytics-industry-salaries-2022-india/info.txt\n",
      "/kaggle/input/analytics-industry-salaries-2022-india/Salary Dataset.csv\n"
     ]
    }
   ],
   "source": [
    "import numpy as np \n",
    "import pandas as pd \n",
    "import os\n",
    "for dirname, _, filenames in os.walk('/kaggle/input'):\n",
    "    for filename in filenames:\n",
    "        print(os.path.join(dirname, filename))"
   ]
  },
  {
   "cell_type": "code",
   "execution_count": 2,
   "id": "46eed72f",
   "metadata": {
    "execution": {
     "iopub.execute_input": "2022-02-17T12:44:03.468278Z",
     "iopub.status.busy": "2022-02-17T12:44:03.467593Z",
     "iopub.status.idle": "2022-02-17T12:44:03.515539Z",
     "shell.execute_reply": "2022-02-17T12:44:03.516107Z",
     "shell.execute_reply.started": "2022-02-17T11:44:05.385941Z"
    },
    "papermill": {
     "duration": 0.075638,
     "end_time": "2022-02-17T12:44:03.516299",
     "exception": false,
     "start_time": "2022-02-17T12:44:03.440661",
     "status": "completed"
    },
    "tags": []
   },
   "outputs": [],
   "source": [
    "import requests\n",
    "from tkinter import *\n",
    "import tkinter as tk\n",
    "from tkinter import ttk"
   ]
  },
  {
   "cell_type": "code",
   "execution_count": 3,
   "id": "6872372b",
   "metadata": {
    "execution": {
     "iopub.execute_input": "2022-02-17T12:44:03.568972Z",
     "iopub.status.busy": "2022-02-17T12:44:03.568291Z",
     "iopub.status.idle": "2022-02-17T12:44:04.630383Z",
     "shell.execute_reply": "2022-02-17T12:44:04.629796Z",
     "shell.execute_reply.started": "2022-02-17T11:44:06.599331Z"
    },
    "papermill": {
     "duration": 1.08795,
     "end_time": "2022-02-17T12:44:04.630525",
     "exception": false,
     "start_time": "2022-02-17T12:44:03.542575",
     "status": "completed"
    },
    "tags": []
   },
   "outputs": [],
   "source": [
    "import seaborn as sns\n",
    "import matplotlib.pyplot as plt"
   ]
  },
  {
   "cell_type": "markdown",
   "id": "51332ab9",
   "metadata": {
    "papermill": {
     "duration": 0.022617,
     "end_time": "2022-02-17T12:44:04.677322",
     "exception": false,
     "start_time": "2022-02-17T12:44:04.654705",
     "status": "completed"
    },
    "tags": []
   },
   "source": [
    "## Reading the DataSet"
   ]
  },
  {
   "cell_type": "code",
   "execution_count": 4,
   "id": "8076e6e0",
   "metadata": {
    "execution": {
     "iopub.execute_input": "2022-02-17T12:44:04.733340Z",
     "iopub.status.busy": "2022-02-17T12:44:04.732597Z",
     "iopub.status.idle": "2022-02-17T12:44:04.773716Z",
     "shell.execute_reply": "2022-02-17T12:44:04.773141Z",
     "shell.execute_reply.started": "2022-02-17T11:44:05.339321Z"
    },
    "papermill": {
     "duration": 0.070209,
     "end_time": "2022-02-17T12:44:04.773871",
     "exception": false,
     "start_time": "2022-02-17T12:44:04.703662",
     "status": "completed"
    },
    "tags": []
   },
   "outputs": [
    {
     "data": {
      "text/html": [
       "<div>\n",
       "<style scoped>\n",
       "    .dataframe tbody tr th:only-of-type {\n",
       "        vertical-align: middle;\n",
       "    }\n",
       "\n",
       "    .dataframe tbody tr th {\n",
       "        vertical-align: top;\n",
       "    }\n",
       "\n",
       "    .dataframe thead th {\n",
       "        text-align: right;\n",
       "    }\n",
       "</style>\n",
       "<table border=\"1\" class=\"dataframe\">\n",
       "  <thead>\n",
       "    <tr style=\"text-align: right;\">\n",
       "      <th></th>\n",
       "      <th>Company Name</th>\n",
       "      <th>Job Title</th>\n",
       "      <th>Salaries Reported</th>\n",
       "      <th>Location</th>\n",
       "      <th>Salary</th>\n",
       "    </tr>\n",
       "  </thead>\n",
       "  <tbody>\n",
       "    <tr>\n",
       "      <th>0</th>\n",
       "      <td>Mu Sigma</td>\n",
       "      <td>Data Scientist</td>\n",
       "      <td>105.0</td>\n",
       "      <td>Bangalore</td>\n",
       "      <td>₹6,48,573/yr</td>\n",
       "    </tr>\n",
       "    <tr>\n",
       "      <th>1</th>\n",
       "      <td>IBM</td>\n",
       "      <td>Data Scientist</td>\n",
       "      <td>95.0</td>\n",
       "      <td>Bangalore</td>\n",
       "      <td>₹11,91,950/yr</td>\n",
       "    </tr>\n",
       "    <tr>\n",
       "      <th>2</th>\n",
       "      <td>Tata Consultancy Services</td>\n",
       "      <td>Data Scientist</td>\n",
       "      <td>66.0</td>\n",
       "      <td>Bangalore</td>\n",
       "      <td>₹8,36,874/yr</td>\n",
       "    </tr>\n",
       "    <tr>\n",
       "      <th>3</th>\n",
       "      <td>Impact Analytics</td>\n",
       "      <td>Data Scientist</td>\n",
       "      <td>40.0</td>\n",
       "      <td>Bangalore</td>\n",
       "      <td>₹6,69,578/yr</td>\n",
       "    </tr>\n",
       "    <tr>\n",
       "      <th>4</th>\n",
       "      <td>Accenture</td>\n",
       "      <td>Data Scientist</td>\n",
       "      <td>32.0</td>\n",
       "      <td>Bangalore</td>\n",
       "      <td>₹9,44,110/yr</td>\n",
       "    </tr>\n",
       "  </tbody>\n",
       "</table>\n",
       "</div>"
      ],
      "text/plain": [
       "                Company Name       Job Title  Salaries Reported   Location  \\\n",
       "0                   Mu Sigma  Data Scientist              105.0  Bangalore   \n",
       "1                        IBM  Data Scientist               95.0  Bangalore   \n",
       "2  Tata Consultancy Services  Data Scientist               66.0  Bangalore   \n",
       "3           Impact Analytics  Data Scientist               40.0  Bangalore   \n",
       "4                  Accenture  Data Scientist               32.0  Bangalore   \n",
       "\n",
       "          Salary  \n",
       "0   ₹6,48,573/yr  \n",
       "1  ₹11,91,950/yr  \n",
       "2   ₹8,36,874/yr  \n",
       "3   ₹6,69,578/yr  \n",
       "4   ₹9,44,110/yr  "
      ]
     },
     "execution_count": 4,
     "metadata": {},
     "output_type": "execute_result"
    }
   ],
   "source": [
    "path = '/kaggle/input/analytics-industry-salaries-2022-india/Salary Dataset.csv'\n",
    "salaries = pd.read_csv(path)\n",
    "salaries.head()"
   ]
  },
  {
   "cell_type": "markdown",
   "id": "205f5f61",
   "metadata": {
    "papermill": {
     "duration": 0.023046,
     "end_time": "2022-02-17T12:44:04.821643",
     "exception": false,
     "start_time": "2022-02-17T12:44:04.798597",
     "status": "completed"
    },
    "tags": []
   },
   "source": [
    "### Coverting the Salary in Indian Rupee to US dolar and Brazilian Real\n",
    "Here we use tkinter and request libraries to access today's currencies."
   ]
  },
  {
   "cell_type": "code",
   "execution_count": 5,
   "id": "3ef2e6a9",
   "metadata": {
    "execution": {
     "iopub.execute_input": "2022-02-17T12:44:04.873544Z",
     "iopub.status.busy": "2022-02-17T12:44:04.872620Z",
     "iopub.status.idle": "2022-02-17T12:44:04.876315Z",
     "shell.execute_reply": "2022-02-17T12:44:04.875422Z",
     "shell.execute_reply.started": "2022-02-17T11:44:05.437305Z"
    },
    "papermill": {
     "duration": 0.031664,
     "end_time": "2022-02-17T12:44:04.876475",
     "exception": false,
     "start_time": "2022-02-17T12:44:04.844811",
     "status": "completed"
    },
    "tags": []
   },
   "outputs": [],
   "source": [
    "class RealTimeCurrencyConverter():\n",
    "    def __init__(self,url):\n",
    "        self.data= requests.get(url).json()\n",
    "        self.currencies = self.data['rates']"
   ]
  },
  {
   "cell_type": "code",
   "execution_count": 6,
   "id": "967fd39b",
   "metadata": {
    "execution": {
     "iopub.execute_input": "2022-02-17T12:44:04.932197Z",
     "iopub.status.busy": "2022-02-17T12:44:04.931238Z",
     "iopub.status.idle": "2022-02-17T12:44:05.188274Z",
     "shell.execute_reply": "2022-02-17T12:44:05.187700Z",
     "shell.execute_reply.started": "2022-02-17T12:13:27.891956Z"
    },
    "papermill": {
     "duration": 0.285636,
     "end_time": "2022-02-17T12:44:05.188414",
     "exception": false,
     "start_time": "2022-02-17T12:44:04.902778",
     "status": "completed"
    },
    "tags": []
   },
   "outputs": [],
   "source": [
    "url = 'https://api.exchangerate-api.com/v4/latest/USD'\n",
    "converter = RealTimeCurrencyConverter(url)"
   ]
  },
  {
   "cell_type": "markdown",
   "id": "0a262f8d",
   "metadata": {
    "papermill": {
     "duration": 0.022696,
     "end_time": "2022-02-17T12:44:05.234311",
     "exception": false,
     "start_time": "2022-02-17T12:44:05.211615",
     "status": "completed"
    },
    "tags": []
   },
   "source": [
    "So, to make rupians to Brazilian Real, we transform rupian to dolar and dolar to real"
   ]
  },
  {
   "cell_type": "code",
   "execution_count": 7,
   "id": "65eafb1a",
   "metadata": {
    "execution": {
     "iopub.execute_input": "2022-02-17T12:44:05.285790Z",
     "iopub.status.busy": "2022-02-17T12:44:05.285159Z",
     "iopub.status.idle": "2022-02-17T12:44:05.287713Z",
     "shell.execute_reply": "2022-02-17T12:44:05.288149Z",
     "shell.execute_reply.started": "2022-02-17T11:44:06.121829Z"
    },
    "papermill": {
     "duration": 0.030742,
     "end_time": "2022-02-17T12:44:05.288309",
     "exception": false,
     "start_time": "2022-02-17T12:44:05.257567",
     "status": "completed"
    },
    "tags": []
   },
   "outputs": [
    {
     "name": "stdout",
     "output_type": "stream",
     "text": [
      "1 Indian rupee is 14.514507 Brazilian Real\n"
     ]
    }
   ],
   "source": [
    "rate = round(converter.currencies['INR']/converter.currencies['BRL'],6)\n",
    "print(\"1 Indian rupee is \"+str(rate)+\" Brazilian Real\")"
   ]
  },
  {
   "cell_type": "markdown",
   "id": "5774912b",
   "metadata": {
    "papermill": {
     "duration": 0.023544,
     "end_time": "2022-02-17T12:44:05.336087",
     "exception": false,
     "start_time": "2022-02-17T12:44:05.312543",
     "status": "completed"
    },
    "tags": []
   },
   "source": [
    "We need to split the information from the Salary column to get the currency and the period of worked time"
   ]
  },
  {
   "cell_type": "code",
   "execution_count": 8,
   "id": "14e5d1e1",
   "metadata": {
    "execution": {
     "iopub.execute_input": "2022-02-17T12:44:05.387289Z",
     "iopub.status.busy": "2022-02-17T12:44:05.386321Z",
     "iopub.status.idle": "2022-02-17T12:44:05.398647Z",
     "shell.execute_reply": "2022-02-17T12:44:05.398184Z",
     "shell.execute_reply.started": "2022-02-17T11:44:06.129940Z"
    },
    "papermill": {
     "duration": 0.039273,
     "end_time": "2022-02-17T12:44:05.398805",
     "exception": false,
     "start_time": "2022-02-17T12:44:05.359532",
     "status": "completed"
    },
    "tags": []
   },
   "outputs": [
    {
     "data": {
      "text/html": [
       "<div>\n",
       "<style scoped>\n",
       "    .dataframe tbody tr th:only-of-type {\n",
       "        vertical-align: middle;\n",
       "    }\n",
       "\n",
       "    .dataframe tbody tr th {\n",
       "        vertical-align: top;\n",
       "    }\n",
       "\n",
       "    .dataframe thead th {\n",
       "        text-align: right;\n",
       "    }\n",
       "</style>\n",
       "<table border=\"1\" class=\"dataframe\">\n",
       "  <thead>\n",
       "    <tr style=\"text-align: right;\">\n",
       "      <th></th>\n",
       "      <th>Company Name</th>\n",
       "      <th>Job Title</th>\n",
       "      <th>Salaries Reported</th>\n",
       "      <th>Location</th>\n",
       "      <th>Salary</th>\n",
       "    </tr>\n",
       "  </thead>\n",
       "  <tbody>\n",
       "    <tr>\n",
       "      <th>0</th>\n",
       "      <td>Mu Sigma</td>\n",
       "      <td>Data Scientist</td>\n",
       "      <td>105.0</td>\n",
       "      <td>Bangalore</td>\n",
       "      <td>₹6,48,573/yr</td>\n",
       "    </tr>\n",
       "    <tr>\n",
       "      <th>1</th>\n",
       "      <td>IBM</td>\n",
       "      <td>Data Scientist</td>\n",
       "      <td>95.0</td>\n",
       "      <td>Bangalore</td>\n",
       "      <td>₹11,91,950/yr</td>\n",
       "    </tr>\n",
       "    <tr>\n",
       "      <th>2</th>\n",
       "      <td>Tata Consultancy Services</td>\n",
       "      <td>Data Scientist</td>\n",
       "      <td>66.0</td>\n",
       "      <td>Bangalore</td>\n",
       "      <td>₹8,36,874/yr</td>\n",
       "    </tr>\n",
       "    <tr>\n",
       "      <th>3</th>\n",
       "      <td>Impact Analytics</td>\n",
       "      <td>Data Scientist</td>\n",
       "      <td>40.0</td>\n",
       "      <td>Bangalore</td>\n",
       "      <td>₹6,69,578/yr</td>\n",
       "    </tr>\n",
       "    <tr>\n",
       "      <th>4</th>\n",
       "      <td>Accenture</td>\n",
       "      <td>Data Scientist</td>\n",
       "      <td>32.0</td>\n",
       "      <td>Bangalore</td>\n",
       "      <td>₹9,44,110/yr</td>\n",
       "    </tr>\n",
       "  </tbody>\n",
       "</table>\n",
       "</div>"
      ],
      "text/plain": [
       "                Company Name       Job Title  Salaries Reported   Location  \\\n",
       "0                   Mu Sigma  Data Scientist              105.0  Bangalore   \n",
       "1                        IBM  Data Scientist               95.0  Bangalore   \n",
       "2  Tata Consultancy Services  Data Scientist               66.0  Bangalore   \n",
       "3           Impact Analytics  Data Scientist               40.0  Bangalore   \n",
       "4                  Accenture  Data Scientist               32.0  Bangalore   \n",
       "\n",
       "          Salary  \n",
       "0   ₹6,48,573/yr  \n",
       "1  ₹11,91,950/yr  \n",
       "2   ₹8,36,874/yr  \n",
       "3   ₹6,69,578/yr  \n",
       "4   ₹9,44,110/yr  "
      ]
     },
     "execution_count": 8,
     "metadata": {},
     "output_type": "execute_result"
    }
   ],
   "source": [
    "salaries.head()"
   ]
  },
  {
   "cell_type": "code",
   "execution_count": 9,
   "id": "499f6400",
   "metadata": {
    "execution": {
     "iopub.execute_input": "2022-02-17T12:44:05.465292Z",
     "iopub.status.busy": "2022-02-17T12:44:05.464596Z",
     "iopub.status.idle": "2022-02-17T12:44:05.467568Z",
     "shell.execute_reply": "2022-02-17T12:44:05.468072Z",
     "shell.execute_reply.started": "2022-02-17T11:44:06.147872Z"
    },
    "papermill": {
     "duration": 0.044154,
     "end_time": "2022-02-17T12:44:05.468241",
     "exception": false,
     "start_time": "2022-02-17T12:44:05.424087",
     "status": "completed"
    },
    "tags": []
   },
   "outputs": [
    {
     "data": {
      "text/plain": [
       "₹    4318\n",
       "$      19\n",
       "£       6\n",
       "A       1\n",
       "Name: Salary, dtype: int64"
      ]
     },
     "execution_count": 9,
     "metadata": {},
     "output_type": "execute_result"
    }
   ],
   "source": [
    "currency = salaries['Salary'].str[0]\n",
    "currency.value_counts()"
   ]
  },
  {
   "cell_type": "markdown",
   "id": "769db585",
   "metadata": {
    "papermill": {
     "duration": 0.023745,
     "end_time": "2022-02-17T12:44:05.515996",
     "exception": false,
     "start_time": "2022-02-17T12:44:05.492251",
     "status": "completed"
    },
    "tags": []
   },
   "source": [
    "It seems most of currencies are in indian rupee. We can neglect for now the other currencies for having an idea of the salary in India."
   ]
  },
  {
   "cell_type": "code",
   "execution_count": 10,
   "id": "6d00c9d4",
   "metadata": {
    "execution": {
     "iopub.execute_input": "2022-02-17T12:44:05.571930Z",
     "iopub.status.busy": "2022-02-17T12:44:05.569003Z",
     "iopub.status.idle": "2022-02-17T12:44:05.582916Z",
     "shell.execute_reply": "2022-02-17T12:44:05.583701Z",
     "shell.execute_reply.started": "2022-02-17T11:44:06.169262Z"
    },
    "papermill": {
     "duration": 0.043877,
     "end_time": "2022-02-17T12:44:05.583888",
     "exception": false,
     "start_time": "2022-02-17T12:44:05.540011",
     "status": "completed"
    },
    "tags": []
   },
   "outputs": [
    {
     "data": {
      "text/html": [
       "<div>\n",
       "<style scoped>\n",
       "    .dataframe tbody tr th:only-of-type {\n",
       "        vertical-align: middle;\n",
       "    }\n",
       "\n",
       "    .dataframe tbody tr th {\n",
       "        vertical-align: top;\n",
       "    }\n",
       "\n",
       "    .dataframe thead th {\n",
       "        text-align: right;\n",
       "    }\n",
       "</style>\n",
       "<table border=\"1\" class=\"dataframe\">\n",
       "  <thead>\n",
       "    <tr style=\"text-align: right;\">\n",
       "      <th></th>\n",
       "      <th>Company Name</th>\n",
       "      <th>Job Title</th>\n",
       "      <th>Salaries Reported</th>\n",
       "      <th>Location</th>\n",
       "      <th>Salary</th>\n",
       "    </tr>\n",
       "  </thead>\n",
       "  <tbody>\n",
       "    <tr>\n",
       "      <th>0</th>\n",
       "      <td>Mu Sigma</td>\n",
       "      <td>Data Scientist</td>\n",
       "      <td>105.0</td>\n",
       "      <td>Bangalore</td>\n",
       "      <td>₹6,48,573/yr</td>\n",
       "    </tr>\n",
       "    <tr>\n",
       "      <th>1</th>\n",
       "      <td>IBM</td>\n",
       "      <td>Data Scientist</td>\n",
       "      <td>95.0</td>\n",
       "      <td>Bangalore</td>\n",
       "      <td>₹11,91,950/yr</td>\n",
       "    </tr>\n",
       "    <tr>\n",
       "      <th>2</th>\n",
       "      <td>Tata Consultancy Services</td>\n",
       "      <td>Data Scientist</td>\n",
       "      <td>66.0</td>\n",
       "      <td>Bangalore</td>\n",
       "      <td>₹8,36,874/yr</td>\n",
       "    </tr>\n",
       "    <tr>\n",
       "      <th>3</th>\n",
       "      <td>Impact Analytics</td>\n",
       "      <td>Data Scientist</td>\n",
       "      <td>40.0</td>\n",
       "      <td>Bangalore</td>\n",
       "      <td>₹6,69,578/yr</td>\n",
       "    </tr>\n",
       "    <tr>\n",
       "      <th>4</th>\n",
       "      <td>Accenture</td>\n",
       "      <td>Data Scientist</td>\n",
       "      <td>32.0</td>\n",
       "      <td>Bangalore</td>\n",
       "      <td>₹9,44,110/yr</td>\n",
       "    </tr>\n",
       "  </tbody>\n",
       "</table>\n",
       "</div>"
      ],
      "text/plain": [
       "                Company Name       Job Title  Salaries Reported   Location  \\\n",
       "0                   Mu Sigma  Data Scientist              105.0  Bangalore   \n",
       "1                        IBM  Data Scientist               95.0  Bangalore   \n",
       "2  Tata Consultancy Services  Data Scientist               66.0  Bangalore   \n",
       "3           Impact Analytics  Data Scientist               40.0  Bangalore   \n",
       "4                  Accenture  Data Scientist               32.0  Bangalore   \n",
       "\n",
       "          Salary  \n",
       "0   ₹6,48,573/yr  \n",
       "1  ₹11,91,950/yr  \n",
       "2   ₹8,36,874/yr  \n",
       "3   ₹6,69,578/yr  \n",
       "4   ₹9,44,110/yr  "
      ]
     },
     "execution_count": 10,
     "metadata": {},
     "output_type": "execute_result"
    }
   ],
   "source": [
    "sal_rup = salaries[currency == '₹']\n",
    "sal_rup.head()"
   ]
  },
  {
   "cell_type": "code",
   "execution_count": 11,
   "id": "92a8a0f5",
   "metadata": {
    "execution": {
     "iopub.execute_input": "2022-02-17T12:44:05.636064Z",
     "iopub.status.busy": "2022-02-17T12:44:05.635416Z",
     "iopub.status.idle": "2022-02-17T12:44:05.649964Z",
     "shell.execute_reply": "2022-02-17T12:44:05.650435Z",
     "shell.execute_reply.started": "2022-02-17T11:44:06.193367Z"
    },
    "papermill": {
     "duration": 0.042007,
     "end_time": "2022-02-17T12:44:05.650594",
     "exception": false,
     "start_time": "2022-02-17T12:44:05.608587",
     "status": "completed"
    },
    "tags": []
   },
   "outputs": [],
   "source": [
    "quant = sal_rup['Salary'].str[1:-3]\n",
    "quant = quant.str.replace(',','').astype(float)\n",
    "period = sal_rup['Salary'].str[-2:]\n",
    "\n",
    "quant_period = pd.DataFrame(index = sal_rup.index)\n",
    "\n",
    "quant_period[\"Quantanty\"] = quant\n",
    "quant_period['Period'] = period"
   ]
  },
  {
   "cell_type": "code",
   "execution_count": 12,
   "id": "3c1b200d",
   "metadata": {
    "execution": {
     "iopub.execute_input": "2022-02-17T12:44:05.708103Z",
     "iopub.status.busy": "2022-02-17T12:44:05.707489Z",
     "iopub.status.idle": "2022-02-17T12:44:05.710886Z",
     "shell.execute_reply": "2022-02-17T12:44:05.711271Z",
     "shell.execute_reply.started": "2022-02-17T11:44:06.213776Z"
    },
    "papermill": {
     "duration": 0.036195,
     "end_time": "2022-02-17T12:44:05.711426",
     "exception": false,
     "start_time": "2022-02-17T12:44:05.675231",
     "status": "completed"
    },
    "tags": []
   },
   "outputs": [
    {
     "data": {
      "text/html": [
       "<div>\n",
       "<style scoped>\n",
       "    .dataframe tbody tr th:only-of-type {\n",
       "        vertical-align: middle;\n",
       "    }\n",
       "\n",
       "    .dataframe tbody tr th {\n",
       "        vertical-align: top;\n",
       "    }\n",
       "\n",
       "    .dataframe thead th {\n",
       "        text-align: right;\n",
       "    }\n",
       "</style>\n",
       "<table border=\"1\" class=\"dataframe\">\n",
       "  <thead>\n",
       "    <tr style=\"text-align: right;\">\n",
       "      <th></th>\n",
       "      <th>Quantanty</th>\n",
       "      <th>Period</th>\n",
       "    </tr>\n",
       "  </thead>\n",
       "  <tbody>\n",
       "    <tr>\n",
       "      <th>0</th>\n",
       "      <td>648573.0</td>\n",
       "      <td>yr</td>\n",
       "    </tr>\n",
       "    <tr>\n",
       "      <th>1</th>\n",
       "      <td>1191950.0</td>\n",
       "      <td>yr</td>\n",
       "    </tr>\n",
       "    <tr>\n",
       "      <th>2</th>\n",
       "      <td>836874.0</td>\n",
       "      <td>yr</td>\n",
       "    </tr>\n",
       "    <tr>\n",
       "      <th>3</th>\n",
       "      <td>669578.0</td>\n",
       "      <td>yr</td>\n",
       "    </tr>\n",
       "    <tr>\n",
       "      <th>4</th>\n",
       "      <td>944110.0</td>\n",
       "      <td>yr</td>\n",
       "    </tr>\n",
       "  </tbody>\n",
       "</table>\n",
       "</div>"
      ],
      "text/plain": [
       "   Quantanty Period\n",
       "0   648573.0     yr\n",
       "1  1191950.0     yr\n",
       "2   836874.0     yr\n",
       "3   669578.0     yr\n",
       "4   944110.0     yr"
      ]
     },
     "execution_count": 12,
     "metadata": {},
     "output_type": "execute_result"
    }
   ],
   "source": [
    "quant_period.head()"
   ]
  },
  {
   "cell_type": "code",
   "execution_count": 13,
   "id": "4b165dbb",
   "metadata": {
    "execution": {
     "iopub.execute_input": "2022-02-17T12:44:05.766947Z",
     "iopub.status.busy": "2022-02-17T12:44:05.766307Z",
     "iopub.status.idle": "2022-02-17T12:44:05.768995Z",
     "shell.execute_reply": "2022-02-17T12:44:05.768513Z",
     "shell.execute_reply.started": "2022-02-17T11:44:06.232775Z"
    },
    "papermill": {
     "duration": 0.032619,
     "end_time": "2022-02-17T12:44:05.769128",
     "exception": false,
     "start_time": "2022-02-17T12:44:05.736509",
     "status": "completed"
    },
    "tags": []
   },
   "outputs": [],
   "source": [
    "def currency_per_month(row,rate):\n",
    "    if row.Period == \"yr\":\n",
    "        return row.Quantanty*rate/12\n",
    "    elif row.Period == \"mo\":\n",
    "        return row.Quantanty*rate\n",
    "    elif row.Period == \"hr\":\n",
    "        return row.Quantanty*rate*200\n",
    "    else:\n",
    "        print(\"Not existing Period!\")"
   ]
  },
  {
   "cell_type": "code",
   "execution_count": 14,
   "id": "b4770708",
   "metadata": {
    "execution": {
     "iopub.execute_input": "2022-02-17T12:44:05.825638Z",
     "iopub.status.busy": "2022-02-17T12:44:05.825056Z",
     "iopub.status.idle": "2022-02-17T12:44:06.020069Z",
     "shell.execute_reply": "2022-02-17T12:44:06.019461Z",
     "shell.execute_reply.started": "2022-02-17T11:44:06.241260Z"
    },
    "papermill": {
     "duration": 0.225375,
     "end_time": "2022-02-17T12:44:06.020211",
     "exception": false,
     "start_time": "2022-02-17T12:44:05.794836",
     "status": "completed"
    },
    "tags": []
   },
   "outputs": [],
   "source": [
    "BRL_rate = round(converter.currencies['BRL']/converter.currencies['INR'],6)\n",
    "USD_rate = round(1/converter.currencies['INR'],6)\n",
    "\n",
    "USD_moSal = quant_period.apply(currency_per_month,args=(USD_rate,),axis=1)\n",
    "BRL_moSal = quant_period.apply(currency_per_month,args=(BRL_rate,),axis=1)"
   ]
  },
  {
   "cell_type": "code",
   "execution_count": 15,
   "id": "e53e5760",
   "metadata": {
    "execution": {
     "iopub.execute_input": "2022-02-17T12:44:06.078507Z",
     "iopub.status.busy": "2022-02-17T12:44:06.077865Z",
     "iopub.status.idle": "2022-02-17T12:44:06.094352Z",
     "shell.execute_reply": "2022-02-17T12:44:06.093868Z",
     "shell.execute_reply.started": "2022-02-17T11:44:06.518512Z"
    },
    "papermill": {
     "duration": 0.047215,
     "end_time": "2022-02-17T12:44:06.094492",
     "exception": false,
     "start_time": "2022-02-17T12:44:06.047277",
     "status": "completed"
    },
    "tags": []
   },
   "outputs": [
    {
     "name": "stderr",
     "output_type": "stream",
     "text": [
      "/opt/conda/lib/python3.7/site-packages/pandas/core/indexing.py:1667: SettingWithCopyWarning: \n",
      "A value is trying to be set on a copy of a slice from a DataFrame.\n",
      "Try using .loc[row_indexer,col_indexer] = value instead\n",
      "\n",
      "See the caveats in the documentation: https://pandas.pydata.org/pandas-docs/stable/user_guide/indexing.html#returning-a-view-versus-a-copy\n",
      "  self.obj[key] = value\n"
     ]
    },
    {
     "data": {
      "text/html": [
       "<div>\n",
       "<style scoped>\n",
       "    .dataframe tbody tr th:only-of-type {\n",
       "        vertical-align: middle;\n",
       "    }\n",
       "\n",
       "    .dataframe tbody tr th {\n",
       "        vertical-align: top;\n",
       "    }\n",
       "\n",
       "    .dataframe thead th {\n",
       "        text-align: right;\n",
       "    }\n",
       "</style>\n",
       "<table border=\"1\" class=\"dataframe\">\n",
       "  <thead>\n",
       "    <tr style=\"text-align: right;\">\n",
       "      <th></th>\n",
       "      <th>Company Name</th>\n",
       "      <th>Job Title</th>\n",
       "      <th>Salaries Reported</th>\n",
       "      <th>Location</th>\n",
       "      <th>Salary</th>\n",
       "      <th>USD/month</th>\n",
       "      <th>BRL/month</th>\n",
       "    </tr>\n",
       "  </thead>\n",
       "  <tbody>\n",
       "    <tr>\n",
       "      <th>0</th>\n",
       "      <td>Mu Sigma</td>\n",
       "      <td>Data Scientist</td>\n",
       "      <td>105.0</td>\n",
       "      <td>Bangalore</td>\n",
       "      <td>₹6,48,573/yr</td>\n",
       "      <td>720.240316</td>\n",
       "      <td>3723.727832</td>\n",
       "    </tr>\n",
       "    <tr>\n",
       "      <th>1</th>\n",
       "      <td>IBM</td>\n",
       "      <td>Data Scientist</td>\n",
       "      <td>95.0</td>\n",
       "      <td>Bangalore</td>\n",
       "      <td>₹11,91,950/yr</td>\n",
       "      <td>1323.660475</td>\n",
       "      <td>6843.481596</td>\n",
       "    </tr>\n",
       "    <tr>\n",
       "      <th>2</th>\n",
       "      <td>Tata Consultancy Services</td>\n",
       "      <td>Data Scientist</td>\n",
       "      <td>66.0</td>\n",
       "      <td>Bangalore</td>\n",
       "      <td>₹8,36,874/yr</td>\n",
       "      <td>929.348577</td>\n",
       "      <td>4804.842332</td>\n",
       "    </tr>\n",
       "    <tr>\n",
       "      <th>3</th>\n",
       "      <td>Impact Analytics</td>\n",
       "      <td>Data Scientist</td>\n",
       "      <td>40.0</td>\n",
       "      <td>Bangalore</td>\n",
       "      <td>₹6,69,578/yr</td>\n",
       "      <td>743.566369</td>\n",
       "      <td>3844.326289</td>\n",
       "    </tr>\n",
       "    <tr>\n",
       "      <th>4</th>\n",
       "      <td>Accenture</td>\n",
       "      <td>Data Scientist</td>\n",
       "      <td>32.0</td>\n",
       "      <td>Bangalore</td>\n",
       "      <td>₹9,44,110/yr</td>\n",
       "      <td>1048.434155</td>\n",
       "      <td>5420.528889</td>\n",
       "    </tr>\n",
       "  </tbody>\n",
       "</table>\n",
       "</div>"
      ],
      "text/plain": [
       "                Company Name       Job Title  Salaries Reported   Location  \\\n",
       "0                   Mu Sigma  Data Scientist              105.0  Bangalore   \n",
       "1                        IBM  Data Scientist               95.0  Bangalore   \n",
       "2  Tata Consultancy Services  Data Scientist               66.0  Bangalore   \n",
       "3           Impact Analytics  Data Scientist               40.0  Bangalore   \n",
       "4                  Accenture  Data Scientist               32.0  Bangalore   \n",
       "\n",
       "          Salary    USD/month    BRL/month  \n",
       "0   ₹6,48,573/yr   720.240316  3723.727832  \n",
       "1  ₹11,91,950/yr  1323.660475  6843.481596  \n",
       "2   ₹8,36,874/yr   929.348577  4804.842332  \n",
       "3   ₹6,69,578/yr   743.566369  3844.326289  \n",
       "4   ₹9,44,110/yr  1048.434155  5420.528889  "
      ]
     },
     "execution_count": 15,
     "metadata": {},
     "output_type": "execute_result"
    }
   ],
   "source": [
    "sal_rup.loc[:,'USD/month'] = USD_moSal\n",
    "sal_rup.loc[:,'BRL/month'] = BRL_moSal\n",
    "\n",
    "sal_rup.head()"
   ]
  },
  {
   "cell_type": "markdown",
   "id": "ce32f0da",
   "metadata": {
    "papermill": {
     "duration": 0.025473,
     "end_time": "2022-02-17T12:44:06.147177",
     "exception": false,
     "start_time": "2022-02-17T12:44:06.121704",
     "status": "completed"
    },
    "tags": []
   },
   "source": [
    "## Fixing Overlap of Job Titles\n",
    "For example, 'Data Scientist' is the same as 'Data Science'"
   ]
  },
  {
   "cell_type": "code",
   "execution_count": 16,
   "id": "0986f90d",
   "metadata": {
    "execution": {
     "iopub.execute_input": "2022-02-17T12:44:06.209356Z",
     "iopub.status.busy": "2022-02-17T12:44:06.208618Z",
     "iopub.status.idle": "2022-02-17T12:44:06.212321Z",
     "shell.execute_reply": "2022-02-17T12:44:06.211845Z",
     "shell.execute_reply.started": "2022-02-17T11:44:06.540378Z"
    },
    "papermill": {
     "duration": 0.037812,
     "end_time": "2022-02-17T12:44:06.212454",
     "exception": false,
     "start_time": "2022-02-17T12:44:06.174642",
     "status": "completed"
    },
    "tags": []
   },
   "outputs": [
    {
     "data": {
      "text/plain": [
       "Data Scientist                              1832\n",
       "Data Analyst                                 987\n",
       "Data Engineer                                798\n",
       "Machine Learning Engineer                    564\n",
       "Data Science                                  43\n",
       "Senior Data Scientist                         39\n",
       "Junior Data Scientist                         18\n",
       "Senior Machine Learning Engineer               9\n",
       "Lead Data Scientist                            6\n",
       "Software Engineer - Machine Learning           2\n",
       "Machine Learning Scientist                     2\n",
       "Machine Learning Data Associate II             2\n",
       "Machine Learning Consultant                    2\n",
       "Machine Learning Developer                     2\n",
       "Data Science Associate                         1\n",
       "Machine Learning Engineer/Data Scientist       1\n",
       "Data Science Lead                              1\n",
       "Machine Learning Data Associate                1\n",
       "Machine Learning Data Associate I              1\n",
       "Machine Learning Associate                     1\n",
       "Data Scientist - Trainee                       1\n",
       "Associate Machine Learning Engineer            1\n",
       "Machine Learning Data Analyst                  1\n",
       "Data Science Manager                           1\n",
       "Data Science Consultant                        1\n",
       "Machine Learning Software Engineer             1\n",
       "Name: Job Title, dtype: int64"
      ]
     },
     "execution_count": 16,
     "metadata": {},
     "output_type": "execute_result"
    }
   ],
   "source": [
    "sal_rup['Job Title'].value_counts()"
   ]
  },
  {
   "cell_type": "markdown",
   "id": "a1b0996d",
   "metadata": {
    "papermill": {
     "duration": 0.026038,
     "end_time": "2022-02-17T12:44:06.266450",
     "exception": false,
     "start_time": "2022-02-17T12:44:06.240412",
     "status": "completed"
    },
    "tags": []
   },
   "source": [
    "Here we exclude careers which counts are less than 10."
   ]
  },
  {
   "cell_type": "code",
   "execution_count": 17,
   "id": "c1a957f6",
   "metadata": {
    "execution": {
     "iopub.execute_input": "2022-02-17T12:44:06.329717Z",
     "iopub.status.busy": "2022-02-17T12:44:06.329047Z",
     "iopub.status.idle": "2022-02-17T12:44:06.333817Z",
     "shell.execute_reply": "2022-02-17T12:44:06.334364Z",
     "shell.execute_reply.started": "2022-02-17T11:44:06.553443Z"
    },
    "papermill": {
     "duration": 0.03952,
     "end_time": "2022-02-17T12:44:06.334554",
     "exception": false,
     "start_time": "2022-02-17T12:44:06.295034",
     "status": "completed"
    },
    "tags": []
   },
   "outputs": [],
   "source": [
    "sal = sal_rup.groupby('Job Title').filter(lambda x: len(x) > 10)"
   ]
  },
  {
   "cell_type": "code",
   "execution_count": 18,
   "id": "59005a07",
   "metadata": {
    "execution": {
     "iopub.execute_input": "2022-02-17T12:44:06.390668Z",
     "iopub.status.busy": "2022-02-17T12:44:06.390094Z",
     "iopub.status.idle": "2022-02-17T12:44:06.398111Z",
     "shell.execute_reply": "2022-02-17T12:44:06.398576Z",
     "shell.execute_reply.started": "2022-02-17T11:44:06.569607Z"
    },
    "papermill": {
     "duration": 0.037825,
     "end_time": "2022-02-17T12:44:06.398778",
     "exception": false,
     "start_time": "2022-02-17T12:44:06.360953",
     "status": "completed"
    },
    "tags": []
   },
   "outputs": [],
   "source": [
    "sal = sal.replace('Data Science','Data Scientist')\n",
    "sal = sal.replace('Senior Data Scientist','Data Scientist')\n",
    "sal = sal.replace('Junior Data Scientist','Data Scientist')"
   ]
  },
  {
   "cell_type": "code",
   "execution_count": 19,
   "id": "e299f0d8",
   "metadata": {
    "execution": {
     "iopub.execute_input": "2022-02-17T12:44:06.455634Z",
     "iopub.status.busy": "2022-02-17T12:44:06.455041Z",
     "iopub.status.idle": "2022-02-17T12:44:06.461667Z",
     "shell.execute_reply": "2022-02-17T12:44:06.462196Z",
     "shell.execute_reply.started": "2022-02-17T11:44:06.583353Z"
    },
    "papermill": {
     "duration": 0.035818,
     "end_time": "2022-02-17T12:44:06.462362",
     "exception": false,
     "start_time": "2022-02-17T12:44:06.426544",
     "status": "completed"
    },
    "tags": []
   },
   "outputs": [
    {
     "data": {
      "text/plain": [
       "Data Scientist               1932\n",
       "Data Analyst                  987\n",
       "Data Engineer                 798\n",
       "Machine Learning Engineer     564\n",
       "Name: Job Title, dtype: int64"
      ]
     },
     "execution_count": 19,
     "metadata": {},
     "output_type": "execute_result"
    }
   ],
   "source": [
    "sal['Job Title'].value_counts()"
   ]
  },
  {
   "cell_type": "markdown",
   "id": "47eb827a",
   "metadata": {
    "papermill": {
     "duration": 0.026592,
     "end_time": "2022-02-17T12:44:06.515716",
     "exception": false,
     "start_time": "2022-02-17T12:44:06.489124",
     "status": "completed"
    },
    "tags": []
   },
   "source": [
    "## Now let's see some data!"
   ]
  },
  {
   "cell_type": "markdown",
   "id": "cd7fc166",
   "metadata": {
    "papermill": {
     "duration": 0.026607,
     "end_time": "2022-02-17T12:44:06.568813",
     "exception": false,
     "start_time": "2022-02-17T12:44:06.542206",
     "status": "completed"
    },
    "tags": []
   },
   "source": [
    "Top salaries of data professionals!"
   ]
  },
  {
   "cell_type": "code",
   "execution_count": 20,
   "id": "d08aa5b7",
   "metadata": {
    "execution": {
     "iopub.execute_input": "2022-02-17T12:44:06.631404Z",
     "iopub.status.busy": "2022-02-17T12:44:06.630790Z",
     "iopub.status.idle": "2022-02-17T12:44:06.643415Z",
     "shell.execute_reply": "2022-02-17T12:44:06.642924Z",
     "shell.execute_reply.started": "2022-02-17T11:44:07.614366Z"
    },
    "papermill": {
     "duration": 0.045845,
     "end_time": "2022-02-17T12:44:06.643560",
     "exception": false,
     "start_time": "2022-02-17T12:44:06.597715",
     "status": "completed"
    },
    "tags": []
   },
   "outputs": [
    {
     "data": {
      "text/html": [
       "<div>\n",
       "<style scoped>\n",
       "    .dataframe tbody tr th:only-of-type {\n",
       "        vertical-align: middle;\n",
       "    }\n",
       "\n",
       "    .dataframe tbody tr th {\n",
       "        vertical-align: top;\n",
       "    }\n",
       "\n",
       "    .dataframe thead th {\n",
       "        text-align: right;\n",
       "    }\n",
       "</style>\n",
       "<table border=\"1\" class=\"dataframe\">\n",
       "  <thead>\n",
       "    <tr style=\"text-align: right;\">\n",
       "      <th></th>\n",
       "      <th>Company Name</th>\n",
       "      <th>Job Title</th>\n",
       "      <th>Salaries Reported</th>\n",
       "      <th>Location</th>\n",
       "      <th>Salary</th>\n",
       "      <th>USD/month</th>\n",
       "      <th>BRL/month</th>\n",
       "    </tr>\n",
       "  </thead>\n",
       "  <tbody>\n",
       "    <tr>\n",
       "      <th>900</th>\n",
       "      <td>L Brands</td>\n",
       "      <td>Data Scientist</td>\n",
       "      <td>1.0</td>\n",
       "      <td>Bangalore</td>\n",
       "      <td>₹15,67,329/mo</td>\n",
       "      <td>20886.226254</td>\n",
       "      <td>107984.266113</td>\n",
       "    </tr>\n",
       "    <tr>\n",
       "      <th>419</th>\n",
       "      <td>Hashworks</td>\n",
       "      <td>Data Scientist</td>\n",
       "      <td>1.0</td>\n",
       "      <td>Bangalore</td>\n",
       "      <td>₹13,43,505/mo</td>\n",
       "      <td>17903.547630</td>\n",
       "      <td>92563.463985</td>\n",
       "    </tr>\n",
       "    <tr>\n",
       "      <th>574</th>\n",
       "      <td>Société Générale</td>\n",
       "      <td>Data Scientist</td>\n",
       "      <td>1.0</td>\n",
       "      <td>Bangalore</td>\n",
       "      <td>₹95,68,943/yr</td>\n",
       "      <td>10626.311201</td>\n",
       "      <td>54939.288823</td>\n",
       "    </tr>\n",
       "    <tr>\n",
       "      <th>834</th>\n",
       "      <td>Orbinet Technologies</td>\n",
       "      <td>Data Scientist</td>\n",
       "      <td>1.0</td>\n",
       "      <td>Bangalore</td>\n",
       "      <td>₹7,22,612/mo</td>\n",
       "      <td>9629.527512</td>\n",
       "      <td>49785.798964</td>\n",
       "    </tr>\n",
       "    <tr>\n",
       "      <th>653</th>\n",
       "      <td>Ritwik IT Services</td>\n",
       "      <td>Data Scientist</td>\n",
       "      <td>1.0</td>\n",
       "      <td>Bangalore</td>\n",
       "      <td>₹7,22,247/mo</td>\n",
       "      <td>9624.663522</td>\n",
       "      <td>49760.651559</td>\n",
       "    </tr>\n",
       "  </tbody>\n",
       "</table>\n",
       "</div>"
      ],
      "text/plain": [
       "             Company Name       Job Title  Salaries Reported   Location  \\\n",
       "900              L Brands  Data Scientist                1.0  Bangalore   \n",
       "419             Hashworks  Data Scientist                1.0  Bangalore   \n",
       "574      Société Générale  Data Scientist                1.0  Bangalore   \n",
       "834  Orbinet Technologies  Data Scientist                1.0  Bangalore   \n",
       "653    Ritwik IT Services  Data Scientist                1.0  Bangalore   \n",
       "\n",
       "            Salary     USD/month      BRL/month  \n",
       "900  ₹15,67,329/mo  20886.226254  107984.266113  \n",
       "419  ₹13,43,505/mo  17903.547630   92563.463985  \n",
       "574  ₹95,68,943/yr  10626.311201   54939.288823  \n",
       "834   ₹7,22,612/mo   9629.527512   49785.798964  \n",
       "653   ₹7,22,247/mo   9624.663522   49760.651559  "
      ]
     },
     "execution_count": 20,
     "metadata": {},
     "output_type": "execute_result"
    }
   ],
   "source": [
    "sal.sort_values(by='BRL/month',ascending=False).head()"
   ]
  },
  {
   "cell_type": "markdown",
   "id": "b41f254b",
   "metadata": {
    "papermill": {
     "duration": 0.028904,
     "end_time": "2022-02-17T12:44:06.700029",
     "exception": false,
     "start_time": "2022-02-17T12:44:06.671125",
     "status": "completed"
    },
    "tags": []
   },
   "source": [
    "## Salary in USD vs. Job Title insights\n",
    "* Data Scientists in India earn more (1k USD/ month) than other data professionals. [(Salary for DS in India)](http://https://www.interviewbit.com/blog/data-scientist-salary/)\n",
    "* That's one tenth of the [USA salary](http://https://www.datasciencelearner.com/data-scientist-salary/)\n",
    "* Deviation in Salary is larger for data scientists, which means that career progression is more accessible for this career"
   ]
  },
  {
   "cell_type": "code",
   "execution_count": 21,
   "id": "63b05fde",
   "metadata": {
    "execution": {
     "iopub.execute_input": "2022-02-17T12:44:06.764773Z",
     "iopub.status.busy": "2022-02-17T12:44:06.764127Z",
     "iopub.status.idle": "2022-02-17T12:44:07.059163Z",
     "shell.execute_reply": "2022-02-17T12:44:07.058568Z",
     "shell.execute_reply.started": "2022-02-17T12:38:08.745725Z"
    },
    "papermill": {
     "duration": 0.332089,
     "end_time": "2022-02-17T12:44:07.059323",
     "exception": false,
     "start_time": "2022-02-17T12:44:06.727234",
     "status": "completed"
    },
    "tags": []
   },
   "outputs": [
    {
     "data": {
      "image/png": "[encoded data removed]",
      "text/plain": [
       "<Figure size 432x432 with 1 Axes>"
      ]
     },
     "metadata": {
      "needs_background": "light"
     },
     "output_type": "display_data"
    }
   ],
   "source": [
    "plt.figure(figsize=(6,6))\n",
    "plt.title(\"Salary of Data Professionals in India\")\n",
    "sns.set_theme() \n",
    "sns.set_style(\"darkgrid\")\n",
    "sns.violinplot( x=\"USD/month\",y=\"Job Title\", data=sal)\n",
    "plt.xlim(0,3000)\n",
    "plt.show()"
   ]
  },
  {
   "cell_type": "markdown",
   "id": "a6d2c11b",
   "metadata": {
    "papermill": {
     "duration": 0.030514,
     "end_time": "2022-02-17T12:44:07.121149",
     "exception": false,
     "start_time": "2022-02-17T12:44:07.090635",
     "status": "completed"
    },
    "tags": []
   },
   "source": [
    "## Salary in USD vs. Location insights\n",
    "* DScientists earn about 10% more in Bangalore"
   ]
  },
  {
   "cell_type": "code",
   "execution_count": 22,
   "id": "d361b451",
   "metadata": {
    "execution": {
     "iopub.execute_input": "2022-02-17T12:44:07.184252Z",
     "iopub.status.busy": "2022-02-17T12:44:07.183414Z",
     "iopub.status.idle": "2022-02-17T12:44:07.527587Z",
     "shell.execute_reply": "2022-02-17T12:44:07.528115Z",
     "shell.execute_reply.started": "2022-02-17T12:22:02.946149Z"
    },
    "papermill": {
     "duration": 0.376944,
     "end_time": "2022-02-17T12:44:07.528288",
     "exception": false,
     "start_time": "2022-02-17T12:44:07.151344",
     "status": "completed"
    },
    "tags": []
   },
   "outputs": [
    {
     "data": {
      "image/png": "[encoded data removed]",
      "text/plain": [
       "<Figure size 432x432 with 1 Axes>"
      ]
     },
     "metadata": {},
     "output_type": "display_data"
    }
   ],
   "source": [
    "plt.figure(figsize=(6,6))\n",
    "sns.set_theme() \n",
    "sns.set_style(\"darkgrid\")\n",
    "sns.violinplot(y=\"Location\", x=\"USD/month\", data=sal,size=0.8)\n",
    "plt.xlim(0,2000)\n",
    "plt.show()"
   ]
  }
 ],
 "metadata": {
  "kernelspec": {
   "display_name": "Python 3",
   "language": "python",
   "name": "python3"
  },
  "language_info": {
   "codemirror_mode": {
    "name": "ipython",
    "version": 3
   },
   "file_extension": ".py",
   "mimetype": "text/x-python",
   "name": "python",
   "nbconvert_exporter": "python",
   "pygments_lexer": "ipython3",
   "version": "3.7.12"
  },
  "papermill": {
   "default_parameters": {},
   "duration": 13.68493,
   "end_time": "2022-02-17T12:44:08.269565",
   "environment_variables": {},
   "exception": null,
   "input_path": "__notebook__.ipynb",
   "output_path": "__notebook__.ipynb",
   "parameters": {},
   "start_time": "2022-02-17T12:43:54.584635",
   "version": "2.3.3"
  }
 },
 "nbformat": 4,
 "nbformat_minor": 5
}
