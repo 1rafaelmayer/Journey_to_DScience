{
 "cells": [
  {
   "cell_type": "markdown",
   "id": "550bdb47",
   "metadata": {
    "papermill": {
     "duration": 0.03143,
     "end_time": "2022-02-17T19:29:15.610057",
     "exception": false,
     "start_time": "2022-02-17T19:29:15.578627",
     "status": "completed"
    },
    "tags": []
   },
   "source": [
    "# Salaries of Data Professionals in India\n",
    "**Rafael Mayer** [(linkedin)](http://https://www.linkedin.com/in/rafaelmayer-physicsengineer/)"
   ]
  },
  {
   "cell_type": "markdown",
   "id": "52cf74d7",
   "metadata": {
    "papermill": {
     "duration": 0.030559,
     "end_time": "2022-02-17T19:29:15.671152",
     "exception": false,
     "start_time": "2022-02-17T19:29:15.640593",
     "status": "completed"
    },
    "tags": []
   },
   "source": [
    "## **Summary**\n",
    "\n",
    "#### Salary is always one of the main topics when deciding to change career. In this notebook, I explore a dataset that contains the salaries of data professionals in India. The results show that data scientists earn 1.2k USD/month, which is twice the salary of a data analyst. However, the salary in India for data scientists is about one tenth of the average salary in the USA. This salary discrepancy between countries highlights the inequality in the valuation of highly trained professionals.\n"
   ]
  },
  {
   "cell_type": "markdown",
   "id": "91bef24f",
   "metadata": {
    "papermill": {
     "duration": 0.030039,
     "end_time": "2022-02-17T19:29:15.731874",
     "exception": false,
     "start_time": "2022-02-17T19:29:15.701835",
     "status": "completed"
    },
    "tags": []
   },
   "source": [
    "## Importing libraries\n",
    "Pandas, numpy, requests, tkinter, seaborn and matplotlib"
   ]
  },
  {
   "cell_type": "code",
   "execution_count": 1,
   "id": "a6b36582",
   "metadata": {
    "_cell_guid": "b1076dfc-b9ad-4769-8c92-a6c4dae69d19",
    "_uuid": "8f2839f25d086af736a60e9eeb907d3b93b6e0e5",
    "execution": {
     "iopub.execute_input": "2022-02-17T19:29:15.798095Z",
     "iopub.status.busy": "2022-02-17T19:29:15.796952Z",
     "iopub.status.idle": "2022-02-17T19:29:16.801033Z",
     "shell.execute_reply": "2022-02-17T19:29:16.800264Z",
     "shell.execute_reply.started": "2022-02-17T19:26:55.682021Z"
    },
    "papermill": {
     "duration": 1.03836,
     "end_time": "2022-02-17T19:29:16.801219",
     "exception": false,
     "start_time": "2022-02-17T19:29:15.762859",
     "status": "completed"
    },
    "tags": []
   },
   "outputs": [
    {
     "name": "stdout",
     "output_type": "stream",
     "text": [
      "/kaggle/input/analytics-industry-salaries-2022-india/info.txt\n",
      "/kaggle/input/analytics-industry-salaries-2022-india/Salary Dataset.csv\n"
     ]
    }
   ],
   "source": [
    "import requests\n",
    "import seaborn as sns\n",
    "import matplotlib.pyplot as plt\n",
    "import pandas as pd \n",
    "import os\n",
    "for dirname, _, filenames in os.walk('/kaggle/input'):\n",
    "    for filename in filenames:\n",
    "        print(os.path.join(dirname, filename))"
   ]
  },
  {
   "cell_type": "markdown",
   "id": "5a37615c",
   "metadata": {
    "papermill": {
     "duration": 0.030134,
     "end_time": "2022-02-17T19:29:16.862646",
     "exception": false,
     "start_time": "2022-02-17T19:29:16.832512",
     "status": "completed"
    },
    "tags": []
   },
   "source": [
    "## Reading the DataSet"
   ]
  },
  {
   "cell_type": "code",
   "execution_count": 2,
   "id": "732bc0aa",
   "metadata": {
    "execution": {
     "iopub.execute_input": "2022-02-17T19:29:16.930281Z",
     "iopub.status.busy": "2022-02-17T19:29:16.929520Z",
     "iopub.status.idle": "2022-02-17T19:29:16.972257Z",
     "shell.execute_reply": "2022-02-17T19:29:16.972760Z",
     "shell.execute_reply.started": "2022-02-17T19:26:55.695526Z"
    },
    "papermill": {
     "duration": 0.079138,
     "end_time": "2022-02-17T19:29:16.972926",
     "exception": false,
     "start_time": "2022-02-17T19:29:16.893788",
     "status": "completed"
    },
    "tags": []
   },
   "outputs": [
    {
     "data": {
      "text/html": [
       "<div>\n",
       "<style scoped>\n",
       "    .dataframe tbody tr th:only-of-type {\n",
       "        vertical-align: middle;\n",
       "    }\n",
       "\n",
       "    .dataframe tbody tr th {\n",
       "        vertical-align: top;\n",
       "    }\n",
       "\n",
       "    .dataframe thead th {\n",
       "        text-align: right;\n",
       "    }\n",
       "</style>\n",
       "<table border=\"1\" class=\"dataframe\">\n",
       "  <thead>\n",
       "    <tr style=\"text-align: right;\">\n",
       "      <th></th>\n",
       "      <th>Company Name</th>\n",
       "      <th>Job Title</th>\n",
       "      <th>Salaries Reported</th>\n",
       "      <th>Location</th>\n",
       "      <th>Salary</th>\n",
       "    </tr>\n",
       "  </thead>\n",
       "  <tbody>\n",
       "    <tr>\n",
       "      <th>0</th>\n",
       "      <td>Mu Sigma</td>\n",
       "      <td>Data Scientist</td>\n",
       "      <td>105.0</td>\n",
       "      <td>Bangalore</td>\n",
       "      <td>₹6,48,573/yr</td>\n",
       "    </tr>\n",
       "    <tr>\n",
       "      <th>1</th>\n",
       "      <td>IBM</td>\n",
       "      <td>Data Scientist</td>\n",
       "      <td>95.0</td>\n",
       "      <td>Bangalore</td>\n",
       "      <td>₹11,91,950/yr</td>\n",
       "    </tr>\n",
       "    <tr>\n",
       "      <th>2</th>\n",
       "      <td>Tata Consultancy Services</td>\n",
       "      <td>Data Scientist</td>\n",
       "      <td>66.0</td>\n",
       "      <td>Bangalore</td>\n",
       "      <td>₹8,36,874/yr</td>\n",
       "    </tr>\n",
       "    <tr>\n",
       "      <th>3</th>\n",
       "      <td>Impact Analytics</td>\n",
       "      <td>Data Scientist</td>\n",
       "      <td>40.0</td>\n",
       "      <td>Bangalore</td>\n",
       "      <td>₹6,69,578/yr</td>\n",
       "    </tr>\n",
       "    <tr>\n",
       "      <th>4</th>\n",
       "      <td>Accenture</td>\n",
       "      <td>Data Scientist</td>\n",
       "      <td>32.0</td>\n",
       "      <td>Bangalore</td>\n",
       "      <td>₹9,44,110/yr</td>\n",
       "    </tr>\n",
       "  </tbody>\n",
       "</table>\n",
       "</div>"
      ],
      "text/plain": [
       "                Company Name       Job Title  Salaries Reported   Location  \\\n",
       "0                   Mu Sigma  Data Scientist              105.0  Bangalore   \n",
       "1                        IBM  Data Scientist               95.0  Bangalore   \n",
       "2  Tata Consultancy Services  Data Scientist               66.0  Bangalore   \n",
       "3           Impact Analytics  Data Scientist               40.0  Bangalore   \n",
       "4                  Accenture  Data Scientist               32.0  Bangalore   \n",
       "\n",
       "          Salary  \n",
       "0   ₹6,48,573/yr  \n",
       "1  ₹11,91,950/yr  \n",
       "2   ₹8,36,874/yr  \n",
       "3   ₹6,69,578/yr  \n",
       "4   ₹9,44,110/yr  "
      ]
     },
     "execution_count": 2,
     "metadata": {},
     "output_type": "execute_result"
    }
   ],
   "source": [
    "path = '/kaggle/input/analytics-industry-salaries-2022-india/Salary Dataset.csv'\n",
    "salaries = pd.read_csv(path)\n",
    "salaries.head()"
   ]
  },
  {
   "cell_type": "markdown",
   "id": "392a9f6b",
   "metadata": {
    "papermill": {
     "duration": 0.03236,
     "end_time": "2022-02-17T19:29:17.036523",
     "exception": false,
     "start_time": "2022-02-17T19:29:17.004163",
     "status": "completed"
    },
    "tags": []
   },
   "source": [
    "### Coverting the Salary in Indian Rupee to US dolar and Brazilian Real\n",
    "Here I used request library to access today's currencies in a webpage."
   ]
  },
  {
   "cell_type": "code",
   "execution_count": 3,
   "id": "5f9ee535",
   "metadata": {
    "execution": {
     "iopub.execute_input": "2022-02-17T19:29:17.103227Z",
     "iopub.status.busy": "2022-02-17T19:29:17.102584Z",
     "iopub.status.idle": "2022-02-17T19:29:17.106746Z",
     "shell.execute_reply": "2022-02-17T19:29:17.107291Z",
     "shell.execute_reply.started": "2022-02-17T19:26:55.731112Z"
    },
    "papermill": {
     "duration": 0.039996,
     "end_time": "2022-02-17T19:29:17.107484",
     "exception": false,
     "start_time": "2022-02-17T19:29:17.067488",
     "status": "completed"
    },
    "tags": []
   },
   "outputs": [],
   "source": [
    "class RealTimeCurrencyConverter():\n",
    "    def __init__(self,url):\n",
    "        self.data= requests.get(url).json()\n",
    "        self.currencies = self.data['rates']"
   ]
  },
  {
   "cell_type": "code",
   "execution_count": 4,
   "id": "8a6c4e3e",
   "metadata": {
    "execution": {
     "iopub.execute_input": "2022-02-17T19:29:17.173231Z",
     "iopub.status.busy": "2022-02-17T19:29:17.172584Z",
     "iopub.status.idle": "2022-02-17T19:29:17.325074Z",
     "shell.execute_reply": "2022-02-17T19:29:17.325544Z",
     "shell.execute_reply.started": "2022-02-17T19:26:55.739819Z"
    },
    "papermill": {
     "duration": 0.186927,
     "end_time": "2022-02-17T19:29:17.325723",
     "exception": false,
     "start_time": "2022-02-17T19:29:17.138796",
     "status": "completed"
    },
    "tags": []
   },
   "outputs": [],
   "source": [
    "url = 'https://api.exchangerate-api.com/v4/latest/USD'\n",
    "converter = RealTimeCurrencyConverter(url)"
   ]
  },
  {
   "cell_type": "markdown",
   "id": "ab36dd96",
   "metadata": {
    "papermill": {
     "duration": 0.030748,
     "end_time": "2022-02-17T19:29:17.387828",
     "exception": false,
     "start_time": "2022-02-17T19:29:17.357080",
     "status": "completed"
    },
    "tags": []
   },
   "source": [
    "So, to make rupians to Brazilian Real, we transform rupian to dolar and dolar to real"
   ]
  },
  {
   "cell_type": "code",
   "execution_count": 5,
   "id": "fb69730b",
   "metadata": {
    "execution": {
     "iopub.execute_input": "2022-02-17T19:29:17.456197Z",
     "iopub.status.busy": "2022-02-17T19:29:17.455576Z",
     "iopub.status.idle": "2022-02-17T19:29:17.460941Z",
     "shell.execute_reply": "2022-02-17T19:29:17.461574Z",
     "shell.execute_reply.started": "2022-02-17T19:26:56.281847Z"
    },
    "papermill": {
     "duration": 0.042734,
     "end_time": "2022-02-17T19:29:17.461802",
     "exception": false,
     "start_time": "2022-02-17T19:29:17.419068",
     "status": "completed"
    },
    "tags": []
   },
   "outputs": [
    {
     "name": "stdout",
     "output_type": "stream",
     "text": [
      "1 Indian rupee is 14.514507 Brazilian Real\n"
     ]
    }
   ],
   "source": [
    "rate = round(converter.currencies['INR']/converter.currencies['BRL'],6)\n",
    "print(\"1 Indian rupee is \"+str(rate)+\" Brazilian Real\")"
   ]
  },
  {
   "cell_type": "markdown",
   "id": "5ffec071",
   "metadata": {
    "papermill": {
     "duration": 0.031495,
     "end_time": "2022-02-17T19:29:17.525673",
     "exception": false,
     "start_time": "2022-02-17T19:29:17.494178",
     "status": "completed"
    },
    "tags": []
   },
   "source": [
    "We need to split the information from the Salary column to get the currency and the period of worked time"
   ]
  },
  {
   "cell_type": "code",
   "execution_count": 6,
   "id": "50adcc6c",
   "metadata": {
    "execution": {
     "iopub.execute_input": "2022-02-17T19:29:17.602050Z",
     "iopub.status.busy": "2022-02-17T19:29:17.594492Z",
     "iopub.status.idle": "2022-02-17T19:29:17.604236Z",
     "shell.execute_reply": "2022-02-17T19:29:17.604793Z",
     "shell.execute_reply.started": "2022-02-17T19:26:56.290882Z"
    },
    "papermill": {
     "duration": 0.047566,
     "end_time": "2022-02-17T19:29:17.604990",
     "exception": false,
     "start_time": "2022-02-17T19:29:17.557424",
     "status": "completed"
    },
    "tags": []
   },
   "outputs": [
    {
     "data": {
      "text/html": [
       "<div>\n",
       "<style scoped>\n",
       "    .dataframe tbody tr th:only-of-type {\n",
       "        vertical-align: middle;\n",
       "    }\n",
       "\n",
       "    .dataframe tbody tr th {\n",
       "        vertical-align: top;\n",
       "    }\n",
       "\n",
       "    .dataframe thead th {\n",
       "        text-align: right;\n",
       "    }\n",
       "</style>\n",
       "<table border=\"1\" class=\"dataframe\">\n",
       "  <thead>\n",
       "    <tr style=\"text-align: right;\">\n",
       "      <th></th>\n",
       "      <th>Company Name</th>\n",
       "      <th>Job Title</th>\n",
       "      <th>Salaries Reported</th>\n",
       "      <th>Location</th>\n",
       "      <th>Salary</th>\n",
       "    </tr>\n",
       "  </thead>\n",
       "  <tbody>\n",
       "    <tr>\n",
       "      <th>0</th>\n",
       "      <td>Mu Sigma</td>\n",
       "      <td>Data Scientist</td>\n",
       "      <td>105.0</td>\n",
       "      <td>Bangalore</td>\n",
       "      <td>₹6,48,573/yr</td>\n",
       "    </tr>\n",
       "    <tr>\n",
       "      <th>1</th>\n",
       "      <td>IBM</td>\n",
       "      <td>Data Scientist</td>\n",
       "      <td>95.0</td>\n",
       "      <td>Bangalore</td>\n",
       "      <td>₹11,91,950/yr</td>\n",
       "    </tr>\n",
       "    <tr>\n",
       "      <th>2</th>\n",
       "      <td>Tata Consultancy Services</td>\n",
       "      <td>Data Scientist</td>\n",
       "      <td>66.0</td>\n",
       "      <td>Bangalore</td>\n",
       "      <td>₹8,36,874/yr</td>\n",
       "    </tr>\n",
       "    <tr>\n",
       "      <th>3</th>\n",
       "      <td>Impact Analytics</td>\n",
       "      <td>Data Scientist</td>\n",
       "      <td>40.0</td>\n",
       "      <td>Bangalore</td>\n",
       "      <td>₹6,69,578/yr</td>\n",
       "    </tr>\n",
       "    <tr>\n",
       "      <th>4</th>\n",
       "      <td>Accenture</td>\n",
       "      <td>Data Scientist</td>\n",
       "      <td>32.0</td>\n",
       "      <td>Bangalore</td>\n",
       "      <td>₹9,44,110/yr</td>\n",
       "    </tr>\n",
       "  </tbody>\n",
       "</table>\n",
       "</div>"
      ],
      "text/plain": [
       "                Company Name       Job Title  Salaries Reported   Location  \\\n",
       "0                   Mu Sigma  Data Scientist              105.0  Bangalore   \n",
       "1                        IBM  Data Scientist               95.0  Bangalore   \n",
       "2  Tata Consultancy Services  Data Scientist               66.0  Bangalore   \n",
       "3           Impact Analytics  Data Scientist               40.0  Bangalore   \n",
       "4                  Accenture  Data Scientist               32.0  Bangalore   \n",
       "\n",
       "          Salary  \n",
       "0   ₹6,48,573/yr  \n",
       "1  ₹11,91,950/yr  \n",
       "2   ₹8,36,874/yr  \n",
       "3   ₹6,69,578/yr  \n",
       "4   ₹9,44,110/yr  "
      ]
     },
     "execution_count": 6,
     "metadata": {},
     "output_type": "execute_result"
    }
   ],
   "source": [
    "salaries.head()"
   ]
  },
  {
   "cell_type": "code",
   "execution_count": 7,
   "id": "d6bb02a9",
   "metadata": {
    "execution": {
     "iopub.execute_input": "2022-02-17T19:29:17.677664Z",
     "iopub.status.busy": "2022-02-17T19:29:17.672455Z",
     "iopub.status.idle": "2022-02-17T19:29:17.692049Z",
     "shell.execute_reply": "2022-02-17T19:29:17.691531Z",
     "shell.execute_reply.started": "2022-02-17T19:26:56.312617Z"
    },
    "papermill": {
     "duration": 0.055098,
     "end_time": "2022-02-17T19:29:17.692197",
     "exception": false,
     "start_time": "2022-02-17T19:29:17.637099",
     "status": "completed"
    },
    "tags": []
   },
   "outputs": [
    {
     "data": {
      "text/plain": [
       "₹    4318\n",
       "$      19\n",
       "£       6\n",
       "A       1\n",
       "Name: Salary, dtype: int64"
      ]
     },
     "execution_count": 7,
     "metadata": {},
     "output_type": "execute_result"
    }
   ],
   "source": [
    "currency = salaries['Salary'].str[0]\n",
    "currency.value_counts()"
   ]
  },
  {
   "cell_type": "markdown",
   "id": "0eb01a92",
   "metadata": {
    "papermill": {
     "duration": 0.032732,
     "end_time": "2022-02-17T19:29:17.757458",
     "exception": false,
     "start_time": "2022-02-17T19:29:17.724726",
     "status": "completed"
    },
    "tags": []
   },
   "source": [
    "It seems most of currencies are in indian rupee. We can neglect for now the other currencies for having an idea of the salary in India."
   ]
  },
  {
   "cell_type": "code",
   "execution_count": 8,
   "id": "27a0cf47",
   "metadata": {
    "execution": {
     "iopub.execute_input": "2022-02-17T19:29:17.829844Z",
     "iopub.status.busy": "2022-02-17T19:29:17.829233Z",
     "iopub.status.idle": "2022-02-17T19:29:17.843519Z",
     "shell.execute_reply": "2022-02-17T19:29:17.842995Z",
     "shell.execute_reply.started": "2022-02-17T19:26:56.332896Z"
    },
    "papermill": {
     "duration": 0.052899,
     "end_time": "2022-02-17T19:29:17.843658",
     "exception": false,
     "start_time": "2022-02-17T19:29:17.790759",
     "status": "completed"
    },
    "tags": []
   },
   "outputs": [
    {
     "data": {
      "text/html": [
       "<div>\n",
       "<style scoped>\n",
       "    .dataframe tbody tr th:only-of-type {\n",
       "        vertical-align: middle;\n",
       "    }\n",
       "\n",
       "    .dataframe tbody tr th {\n",
       "        vertical-align: top;\n",
       "    }\n",
       "\n",
       "    .dataframe thead th {\n",
       "        text-align: right;\n",
       "    }\n",
       "</style>\n",
       "<table border=\"1\" class=\"dataframe\">\n",
       "  <thead>\n",
       "    <tr style=\"text-align: right;\">\n",
       "      <th></th>\n",
       "      <th>Company Name</th>\n",
       "      <th>Job Title</th>\n",
       "      <th>Salaries Reported</th>\n",
       "      <th>Location</th>\n",
       "      <th>Salary</th>\n",
       "    </tr>\n",
       "  </thead>\n",
       "  <tbody>\n",
       "    <tr>\n",
       "      <th>0</th>\n",
       "      <td>Mu Sigma</td>\n",
       "      <td>Data Scientist</td>\n",
       "      <td>105.0</td>\n",
       "      <td>Bangalore</td>\n",
       "      <td>₹6,48,573/yr</td>\n",
       "    </tr>\n",
       "    <tr>\n",
       "      <th>1</th>\n",
       "      <td>IBM</td>\n",
       "      <td>Data Scientist</td>\n",
       "      <td>95.0</td>\n",
       "      <td>Bangalore</td>\n",
       "      <td>₹11,91,950/yr</td>\n",
       "    </tr>\n",
       "    <tr>\n",
       "      <th>2</th>\n",
       "      <td>Tata Consultancy Services</td>\n",
       "      <td>Data Scientist</td>\n",
       "      <td>66.0</td>\n",
       "      <td>Bangalore</td>\n",
       "      <td>₹8,36,874/yr</td>\n",
       "    </tr>\n",
       "    <tr>\n",
       "      <th>3</th>\n",
       "      <td>Impact Analytics</td>\n",
       "      <td>Data Scientist</td>\n",
       "      <td>40.0</td>\n",
       "      <td>Bangalore</td>\n",
       "      <td>₹6,69,578/yr</td>\n",
       "    </tr>\n",
       "    <tr>\n",
       "      <th>4</th>\n",
       "      <td>Accenture</td>\n",
       "      <td>Data Scientist</td>\n",
       "      <td>32.0</td>\n",
       "      <td>Bangalore</td>\n",
       "      <td>₹9,44,110/yr</td>\n",
       "    </tr>\n",
       "  </tbody>\n",
       "</table>\n",
       "</div>"
      ],
      "text/plain": [
       "                Company Name       Job Title  Salaries Reported   Location  \\\n",
       "0                   Mu Sigma  Data Scientist              105.0  Bangalore   \n",
       "1                        IBM  Data Scientist               95.0  Bangalore   \n",
       "2  Tata Consultancy Services  Data Scientist               66.0  Bangalore   \n",
       "3           Impact Analytics  Data Scientist               40.0  Bangalore   \n",
       "4                  Accenture  Data Scientist               32.0  Bangalore   \n",
       "\n",
       "          Salary  \n",
       "0   ₹6,48,573/yr  \n",
       "1  ₹11,91,950/yr  \n",
       "2   ₹8,36,874/yr  \n",
       "3   ₹6,69,578/yr  \n",
       "4   ₹9,44,110/yr  "
      ]
     },
     "execution_count": 8,
     "metadata": {},
     "output_type": "execute_result"
    }
   ],
   "source": [
    "sal_rup = salaries[currency == '₹']\n",
    "sal_rup.head()"
   ]
  },
  {
   "cell_type": "code",
   "execution_count": 9,
   "id": "f2e8fd5c",
   "metadata": {
    "execution": {
     "iopub.execute_input": "2022-02-17T19:29:17.930816Z",
     "iopub.status.busy": "2022-02-17T19:29:17.930172Z",
     "iopub.status.idle": "2022-02-17T19:29:17.932709Z",
     "shell.execute_reply": "2022-02-17T19:29:17.932222Z",
     "shell.execute_reply.started": "2022-02-17T19:26:56.355461Z"
    },
    "papermill": {
     "duration": 0.056038,
     "end_time": "2022-02-17T19:29:17.932852",
     "exception": false,
     "start_time": "2022-02-17T19:29:17.876814",
     "status": "completed"
    },
    "tags": []
   },
   "outputs": [],
   "source": [
    "quant = sal_rup['Salary'].str[1:-3]\n",
    "quant = quant.str.replace(',','').astype(float)\n",
    "period = sal_rup['Salary'].str[-2:]\n",
    "\n",
    "quant_period = pd.DataFrame(index = sal_rup.index)\n",
    "\n",
    "quant_period[\"Quantanty\"] = quant\n",
    "quant_period['Period'] = period"
   ]
  },
  {
   "cell_type": "code",
   "execution_count": 10,
   "id": "b87c8d9c",
   "metadata": {
    "execution": {
     "iopub.execute_input": "2022-02-17T19:29:18.005043Z",
     "iopub.status.busy": "2022-02-17T19:29:18.004330Z",
     "iopub.status.idle": "2022-02-17T19:29:18.013156Z",
     "shell.execute_reply": "2022-02-17T19:29:18.013675Z",
     "shell.execute_reply.started": "2022-02-17T19:26:56.383041Z"
    },
    "papermill": {
     "duration": 0.047523,
     "end_time": "2022-02-17T19:29:18.013842",
     "exception": false,
     "start_time": "2022-02-17T19:29:17.966319",
     "status": "completed"
    },
    "tags": []
   },
   "outputs": [
    {
     "data": {
      "text/html": [
       "<div>\n",
       "<style scoped>\n",
       "    .dataframe tbody tr th:only-of-type {\n",
       "        vertical-align: middle;\n",
       "    }\n",
       "\n",
       "    .dataframe tbody tr th {\n",
       "        vertical-align: top;\n",
       "    }\n",
       "\n",
       "    .dataframe thead th {\n",
       "        text-align: right;\n",
       "    }\n",
       "</style>\n",
       "<table border=\"1\" class=\"dataframe\">\n",
       "  <thead>\n",
       "    <tr style=\"text-align: right;\">\n",
       "      <th></th>\n",
       "      <th>Quantanty</th>\n",
       "      <th>Period</th>\n",
       "    </tr>\n",
       "  </thead>\n",
       "  <tbody>\n",
       "    <tr>\n",
       "      <th>0</th>\n",
       "      <td>648573.0</td>\n",
       "      <td>yr</td>\n",
       "    </tr>\n",
       "    <tr>\n",
       "      <th>1</th>\n",
       "      <td>1191950.0</td>\n",
       "      <td>yr</td>\n",
       "    </tr>\n",
       "    <tr>\n",
       "      <th>2</th>\n",
       "      <td>836874.0</td>\n",
       "      <td>yr</td>\n",
       "    </tr>\n",
       "    <tr>\n",
       "      <th>3</th>\n",
       "      <td>669578.0</td>\n",
       "      <td>yr</td>\n",
       "    </tr>\n",
       "    <tr>\n",
       "      <th>4</th>\n",
       "      <td>944110.0</td>\n",
       "      <td>yr</td>\n",
       "    </tr>\n",
       "  </tbody>\n",
       "</table>\n",
       "</div>"
      ],
      "text/plain": [
       "   Quantanty Period\n",
       "0   648573.0     yr\n",
       "1  1191950.0     yr\n",
       "2   836874.0     yr\n",
       "3   669578.0     yr\n",
       "4   944110.0     yr"
      ]
     },
     "execution_count": 10,
     "metadata": {},
     "output_type": "execute_result"
    }
   ],
   "source": [
    "quant_period.head()"
   ]
  },
  {
   "cell_type": "code",
   "execution_count": 11,
   "id": "9ebd0099",
   "metadata": {
    "execution": {
     "iopub.execute_input": "2022-02-17T19:29:18.085458Z",
     "iopub.status.busy": "2022-02-17T19:29:18.084811Z",
     "iopub.status.idle": "2022-02-17T19:29:18.089611Z",
     "shell.execute_reply": "2022-02-17T19:29:18.090117Z",
     "shell.execute_reply.started": "2022-02-17T19:26:56.396717Z"
    },
    "papermill": {
     "duration": 0.041801,
     "end_time": "2022-02-17T19:29:18.090286",
     "exception": false,
     "start_time": "2022-02-17T19:29:18.048485",
     "status": "completed"
    },
    "tags": []
   },
   "outputs": [],
   "source": [
    "def currency_per_month(row,rate):\n",
    "    if row.Period == \"yr\":\n",
    "        return row.Quantanty*rate/12\n",
    "    elif row.Period == \"mo\":\n",
    "        return row.Quantanty*rate\n",
    "    elif row.Period == \"hr\":\n",
    "        return row.Quantanty*rate*200\n",
    "    else:\n",
    "        print(\"Not existing Period!\")"
   ]
  },
  {
   "cell_type": "code",
   "execution_count": 12,
   "id": "48a855de",
   "metadata": {
    "execution": {
     "iopub.execute_input": "2022-02-17T19:29:18.164356Z",
     "iopub.status.busy": "2022-02-17T19:29:18.163684Z",
     "iopub.status.idle": "2022-02-17T19:29:18.432561Z",
     "shell.execute_reply": "2022-02-17T19:29:18.431833Z",
     "shell.execute_reply.started": "2022-02-17T19:26:56.405763Z"
    },
    "papermill": {
     "duration": 0.308612,
     "end_time": "2022-02-17T19:29:18.432720",
     "exception": false,
     "start_time": "2022-02-17T19:29:18.124108",
     "status": "completed"
    },
    "tags": []
   },
   "outputs": [],
   "source": [
    "BRL_rate = round(converter.currencies['BRL']/converter.currencies['INR'],6)\n",
    "USD_rate = round(1/converter.currencies['INR'],6)\n",
    "\n",
    "USD_moSal = quant_period.apply(currency_per_month,args=(USD_rate,),axis=1)\n",
    "BRL_moSal = quant_period.apply(currency_per_month,args=(BRL_rate,),axis=1)"
   ]
  },
  {
   "cell_type": "code",
   "execution_count": 13,
   "id": "4a020276",
   "metadata": {
    "execution": {
     "iopub.execute_input": "2022-02-17T19:29:18.506710Z",
     "iopub.status.busy": "2022-02-17T19:29:18.505962Z",
     "iopub.status.idle": "2022-02-17T19:29:18.523495Z",
     "shell.execute_reply": "2022-02-17T19:29:18.522912Z",
     "shell.execute_reply.started": "2022-02-17T19:26:56.685226Z"
    },
    "papermill": {
     "duration": 0.056852,
     "end_time": "2022-02-17T19:29:18.523638",
     "exception": false,
     "start_time": "2022-02-17T19:29:18.466786",
     "status": "completed"
    },
    "tags": []
   },
   "outputs": [
    {
     "name": "stderr",
     "output_type": "stream",
     "text": [
      "/opt/conda/lib/python3.7/site-packages/pandas/core/indexing.py:1667: SettingWithCopyWarning: \n",
      "A value is trying to be set on a copy of a slice from a DataFrame.\n",
      "Try using .loc[row_indexer,col_indexer] = value instead\n",
      "\n",
      "See the caveats in the documentation: https://pandas.pydata.org/pandas-docs/stable/user_guide/indexing.html#returning-a-view-versus-a-copy\n",
      "  self.obj[key] = value\n"
     ]
    },
    {
     "data": {
      "text/html": [
       "<div>\n",
       "<style scoped>\n",
       "    .dataframe tbody tr th:only-of-type {\n",
       "        vertical-align: middle;\n",
       "    }\n",
       "\n",
       "    .dataframe tbody tr th {\n",
       "        vertical-align: top;\n",
       "    }\n",
       "\n",
       "    .dataframe thead th {\n",
       "        text-align: right;\n",
       "    }\n",
       "</style>\n",
       "<table border=\"1\" class=\"dataframe\">\n",
       "  <thead>\n",
       "    <tr style=\"text-align: right;\">\n",
       "      <th></th>\n",
       "      <th>Company Name</th>\n",
       "      <th>Job Title</th>\n",
       "      <th>Salaries Reported</th>\n",
       "      <th>Location</th>\n",
       "      <th>Salary</th>\n",
       "      <th>USD/month</th>\n",
       "      <th>BRL/month</th>\n",
       "    </tr>\n",
       "  </thead>\n",
       "  <tbody>\n",
       "    <tr>\n",
       "      <th>0</th>\n",
       "      <td>Mu Sigma</td>\n",
       "      <td>Data Scientist</td>\n",
       "      <td>105.0</td>\n",
       "      <td>Bangalore</td>\n",
       "      <td>₹6,48,573/yr</td>\n",
       "      <td>720.240316</td>\n",
       "      <td>3723.727832</td>\n",
       "    </tr>\n",
       "    <tr>\n",
       "      <th>1</th>\n",
       "      <td>IBM</td>\n",
       "      <td>Data Scientist</td>\n",
       "      <td>95.0</td>\n",
       "      <td>Bangalore</td>\n",
       "      <td>₹11,91,950/yr</td>\n",
       "      <td>1323.660475</td>\n",
       "      <td>6843.481596</td>\n",
       "    </tr>\n",
       "    <tr>\n",
       "      <th>2</th>\n",
       "      <td>Tata Consultancy Services</td>\n",
       "      <td>Data Scientist</td>\n",
       "      <td>66.0</td>\n",
       "      <td>Bangalore</td>\n",
       "      <td>₹8,36,874/yr</td>\n",
       "      <td>929.348577</td>\n",
       "      <td>4804.842332</td>\n",
       "    </tr>\n",
       "    <tr>\n",
       "      <th>3</th>\n",
       "      <td>Impact Analytics</td>\n",
       "      <td>Data Scientist</td>\n",
       "      <td>40.0</td>\n",
       "      <td>Bangalore</td>\n",
       "      <td>₹6,69,578/yr</td>\n",
       "      <td>743.566369</td>\n",
       "      <td>3844.326289</td>\n",
       "    </tr>\n",
       "    <tr>\n",
       "      <th>4</th>\n",
       "      <td>Accenture</td>\n",
       "      <td>Data Scientist</td>\n",
       "      <td>32.0</td>\n",
       "      <td>Bangalore</td>\n",
       "      <td>₹9,44,110/yr</td>\n",
       "      <td>1048.434155</td>\n",
       "      <td>5420.528889</td>\n",
       "    </tr>\n",
       "  </tbody>\n",
       "</table>\n",
       "</div>"
      ],
      "text/plain": [
       "                Company Name       Job Title  Salaries Reported   Location  \\\n",
       "0                   Mu Sigma  Data Scientist              105.0  Bangalore   \n",
       "1                        IBM  Data Scientist               95.0  Bangalore   \n",
       "2  Tata Consultancy Services  Data Scientist               66.0  Bangalore   \n",
       "3           Impact Analytics  Data Scientist               40.0  Bangalore   \n",
       "4                  Accenture  Data Scientist               32.0  Bangalore   \n",
       "\n",
       "          Salary    USD/month    BRL/month  \n",
       "0   ₹6,48,573/yr   720.240316  3723.727832  \n",
       "1  ₹11,91,950/yr  1323.660475  6843.481596  \n",
       "2   ₹8,36,874/yr   929.348577  4804.842332  \n",
       "3   ₹6,69,578/yr   743.566369  3844.326289  \n",
       "4   ₹9,44,110/yr  1048.434155  5420.528889  "
      ]
     },
     "execution_count": 13,
     "metadata": {},
     "output_type": "execute_result"
    }
   ],
   "source": [
    "sal_rup.loc[:,'USD/month'] = USD_moSal\n",
    "sal_rup.loc[:,'BRL/month'] = BRL_moSal\n",
    "\n",
    "sal_rup.head()"
   ]
  },
  {
   "cell_type": "markdown",
   "id": "9c80070a",
   "metadata": {
    "papermill": {
     "duration": 0.034814,
     "end_time": "2022-02-17T19:29:18.593458",
     "exception": false,
     "start_time": "2022-02-17T19:29:18.558644",
     "status": "completed"
    },
    "tags": []
   },
   "source": [
    "## Fixing Overlap of Job Titles\n",
    "For example, 'Data Scientist' is the same as 'Data Science'"
   ]
  },
  {
   "cell_type": "code",
   "execution_count": 14,
   "id": "24a7c6af",
   "metadata": {
    "execution": {
     "iopub.execute_input": "2022-02-17T19:29:18.669803Z",
     "iopub.status.busy": "2022-02-17T19:29:18.668810Z",
     "iopub.status.idle": "2022-02-17T19:29:18.674644Z",
     "shell.execute_reply": "2022-02-17T19:29:18.675122Z",
     "shell.execute_reply.started": "2022-02-17T19:26:56.707306Z"
    },
    "papermill": {
     "duration": 0.04662,
     "end_time": "2022-02-17T19:29:18.675300",
     "exception": false,
     "start_time": "2022-02-17T19:29:18.628680",
     "status": "completed"
    },
    "tags": []
   },
   "outputs": [
    {
     "data": {
      "text/plain": [
       "Data Scientist                              1832\n",
       "Data Analyst                                 987\n",
       "Data Engineer                                798\n",
       "Machine Learning Engineer                    564\n",
       "Data Science                                  43\n",
       "Senior Data Scientist                         39\n",
       "Junior Data Scientist                         18\n",
       "Senior Machine Learning Engineer               9\n",
       "Lead Data Scientist                            6\n",
       "Software Engineer - Machine Learning           2\n",
       "Machine Learning Scientist                     2\n",
       "Machine Learning Data Associate II             2\n",
       "Machine Learning Consultant                    2\n",
       "Machine Learning Developer                     2\n",
       "Data Science Associate                         1\n",
       "Machine Learning Engineer/Data Scientist       1\n",
       "Data Science Lead                              1\n",
       "Machine Learning Data Associate                1\n",
       "Machine Learning Data Associate I              1\n",
       "Machine Learning Associate                     1\n",
       "Data Scientist - Trainee                       1\n",
       "Associate Machine Learning Engineer            1\n",
       "Machine Learning Data Analyst                  1\n",
       "Data Science Manager                           1\n",
       "Data Science Consultant                        1\n",
       "Machine Learning Software Engineer             1\n",
       "Name: Job Title, dtype: int64"
      ]
     },
     "execution_count": 14,
     "metadata": {},
     "output_type": "execute_result"
    }
   ],
   "source": [
    "sal_rup['Job Title'].value_counts()"
   ]
  },
  {
   "cell_type": "markdown",
   "id": "a8f584ed",
   "metadata": {
    "papermill": {
     "duration": 0.035178,
     "end_time": "2022-02-17T19:29:18.745630",
     "exception": false,
     "start_time": "2022-02-17T19:29:18.710452",
     "status": "completed"
    },
    "tags": []
   },
   "source": [
    "Here we exclude careers which counts are less than 10."
   ]
  },
  {
   "cell_type": "code",
   "execution_count": 15,
   "id": "0f8ffa79",
   "metadata": {
    "execution": {
     "iopub.execute_input": "2022-02-17T19:29:18.821309Z",
     "iopub.status.busy": "2022-02-17T19:29:18.820647Z",
     "iopub.status.idle": "2022-02-17T19:29:18.827792Z",
     "shell.execute_reply": "2022-02-17T19:29:18.828341Z",
     "shell.execute_reply.started": "2022-02-17T19:26:56.717382Z"
    },
    "papermill": {
     "duration": 0.047777,
     "end_time": "2022-02-17T19:29:18.828512",
     "exception": false,
     "start_time": "2022-02-17T19:29:18.780735",
     "status": "completed"
    },
    "tags": []
   },
   "outputs": [],
   "source": [
    "sal = sal_rup.groupby('Job Title').filter(lambda x: len(x) > 10)"
   ]
  },
  {
   "cell_type": "code",
   "execution_count": 16,
   "id": "5f113bf3",
   "metadata": {
    "execution": {
     "iopub.execute_input": "2022-02-17T19:29:18.902765Z",
     "iopub.status.busy": "2022-02-17T19:29:18.902129Z",
     "iopub.status.idle": "2022-02-17T19:29:18.911661Z",
     "shell.execute_reply": "2022-02-17T19:29:18.912178Z",
     "shell.execute_reply.started": "2022-02-17T19:26:56.736307Z"
    },
    "papermill": {
     "duration": 0.048065,
     "end_time": "2022-02-17T19:29:18.912351",
     "exception": false,
     "start_time": "2022-02-17T19:29:18.864286",
     "status": "completed"
    },
    "tags": []
   },
   "outputs": [],
   "source": [
    "sal = sal.replace('Data Science','Data Scientist')\n",
    "sal = sal.replace('Senior Data Scientist','Data Scientist')\n",
    "sal = sal.replace('Junior Data Scientist','Data Scientist')"
   ]
  },
  {
   "cell_type": "code",
   "execution_count": 17,
   "id": "1e46bc03",
   "metadata": {
    "execution": {
     "iopub.execute_input": "2022-02-17T19:29:18.987521Z",
     "iopub.status.busy": "2022-02-17T19:29:18.986106Z",
     "iopub.status.idle": "2022-02-17T19:29:18.993204Z",
     "shell.execute_reply": "2022-02-17T19:29:18.993804Z",
     "shell.execute_reply.started": "2022-02-17T19:26:56.751300Z"
    },
    "papermill": {
     "duration": 0.045622,
     "end_time": "2022-02-17T19:29:18.993991",
     "exception": false,
     "start_time": "2022-02-17T19:29:18.948369",
     "status": "completed"
    },
    "tags": []
   },
   "outputs": [
    {
     "data": {
      "text/plain": [
       "Data Scientist               1932\n",
       "Data Analyst                  987\n",
       "Data Engineer                 798\n",
       "Machine Learning Engineer     564\n",
       "Name: Job Title, dtype: int64"
      ]
     },
     "execution_count": 17,
     "metadata": {},
     "output_type": "execute_result"
    }
   ],
   "source": [
    "sal['Job Title'].value_counts()"
   ]
  },
  {
   "cell_type": "markdown",
   "id": "47b9b14c",
   "metadata": {
    "papermill": {
     "duration": 0.034858,
     "end_time": "2022-02-17T19:29:19.064316",
     "exception": false,
     "start_time": "2022-02-17T19:29:19.029458",
     "status": "completed"
    },
    "tags": []
   },
   "source": [
    "## Now let's see some data!"
   ]
  },
  {
   "cell_type": "markdown",
   "id": "25f22eae",
   "metadata": {
    "papermill": {
     "duration": 0.034952,
     "end_time": "2022-02-17T19:29:19.135023",
     "exception": false,
     "start_time": "2022-02-17T19:29:19.100071",
     "status": "completed"
    },
    "tags": []
   },
   "source": [
    "Top salaries of data professionals!"
   ]
  },
  {
   "cell_type": "code",
   "execution_count": 18,
   "id": "8048409c",
   "metadata": {
    "execution": {
     "iopub.execute_input": "2022-02-17T19:29:19.209216Z",
     "iopub.status.busy": "2022-02-17T19:29:19.208597Z",
     "iopub.status.idle": "2022-02-17T19:29:19.222778Z",
     "shell.execute_reply": "2022-02-17T19:29:19.223413Z",
     "shell.execute_reply.started": "2022-02-17T19:26:56.763861Z"
    },
    "papermill": {
     "duration": 0.053177,
     "end_time": "2022-02-17T19:29:19.223588",
     "exception": false,
     "start_time": "2022-02-17T19:29:19.170411",
     "status": "completed"
    },
    "tags": []
   },
   "outputs": [
    {
     "data": {
      "text/html": [
       "<div>\n",
       "<style scoped>\n",
       "    .dataframe tbody tr th:only-of-type {\n",
       "        vertical-align: middle;\n",
       "    }\n",
       "\n",
       "    .dataframe tbody tr th {\n",
       "        vertical-align: top;\n",
       "    }\n",
       "\n",
       "    .dataframe thead th {\n",
       "        text-align: right;\n",
       "    }\n",
       "</style>\n",
       "<table border=\"1\" class=\"dataframe\">\n",
       "  <thead>\n",
       "    <tr style=\"text-align: right;\">\n",
       "      <th></th>\n",
       "      <th>Company Name</th>\n",
       "      <th>Job Title</th>\n",
       "      <th>Salaries Reported</th>\n",
       "      <th>Location</th>\n",
       "      <th>Salary</th>\n",
       "      <th>USD/month</th>\n",
       "      <th>BRL/month</th>\n",
       "    </tr>\n",
       "  </thead>\n",
       "  <tbody>\n",
       "    <tr>\n",
       "      <th>900</th>\n",
       "      <td>L Brands</td>\n",
       "      <td>Data Scientist</td>\n",
       "      <td>1.0</td>\n",
       "      <td>Bangalore</td>\n",
       "      <td>₹15,67,329/mo</td>\n",
       "      <td>20886.226254</td>\n",
       "      <td>107984.266113</td>\n",
       "    </tr>\n",
       "    <tr>\n",
       "      <th>419</th>\n",
       "      <td>Hashworks</td>\n",
       "      <td>Data Scientist</td>\n",
       "      <td>1.0</td>\n",
       "      <td>Bangalore</td>\n",
       "      <td>₹13,43,505/mo</td>\n",
       "      <td>17903.547630</td>\n",
       "      <td>92563.463985</td>\n",
       "    </tr>\n",
       "    <tr>\n",
       "      <th>574</th>\n",
       "      <td>Société Générale</td>\n",
       "      <td>Data Scientist</td>\n",
       "      <td>1.0</td>\n",
       "      <td>Bangalore</td>\n",
       "      <td>₹95,68,943/yr</td>\n",
       "      <td>10626.311201</td>\n",
       "      <td>54939.288823</td>\n",
       "    </tr>\n",
       "    <tr>\n",
       "      <th>834</th>\n",
       "      <td>Orbinet Technologies</td>\n",
       "      <td>Data Scientist</td>\n",
       "      <td>1.0</td>\n",
       "      <td>Bangalore</td>\n",
       "      <td>₹7,22,612/mo</td>\n",
       "      <td>9629.527512</td>\n",
       "      <td>49785.798964</td>\n",
       "    </tr>\n",
       "    <tr>\n",
       "      <th>653</th>\n",
       "      <td>Ritwik IT Services</td>\n",
       "      <td>Data Scientist</td>\n",
       "      <td>1.0</td>\n",
       "      <td>Bangalore</td>\n",
       "      <td>₹7,22,247/mo</td>\n",
       "      <td>9624.663522</td>\n",
       "      <td>49760.651559</td>\n",
       "    </tr>\n",
       "  </tbody>\n",
       "</table>\n",
       "</div>"
      ],
      "text/plain": [
       "             Company Name       Job Title  Salaries Reported   Location  \\\n",
       "900              L Brands  Data Scientist                1.0  Bangalore   \n",
       "419             Hashworks  Data Scientist                1.0  Bangalore   \n",
       "574      Société Générale  Data Scientist                1.0  Bangalore   \n",
       "834  Orbinet Technologies  Data Scientist                1.0  Bangalore   \n",
       "653    Ritwik IT Services  Data Scientist                1.0  Bangalore   \n",
       "\n",
       "            Salary     USD/month      BRL/month  \n",
       "900  ₹15,67,329/mo  20886.226254  107984.266113  \n",
       "419  ₹13,43,505/mo  17903.547630   92563.463985  \n",
       "574  ₹95,68,943/yr  10626.311201   54939.288823  \n",
       "834   ₹7,22,612/mo   9629.527512   49785.798964  \n",
       "653   ₹7,22,247/mo   9624.663522   49760.651559  "
      ]
     },
     "execution_count": 18,
     "metadata": {},
     "output_type": "execute_result"
    }
   ],
   "source": [
    "sal.sort_values(by='BRL/month',ascending=False).head()"
   ]
  },
  {
   "cell_type": "markdown",
   "id": "fe61ffd6",
   "metadata": {
    "papermill": {
     "duration": 0.036108,
     "end_time": "2022-02-17T19:29:19.296014",
     "exception": false,
     "start_time": "2022-02-17T19:29:19.259906",
     "status": "completed"
    },
    "tags": []
   },
   "source": [
    "## Salary in USD vs. Job Title insights\n",
    "* Data Scientists in India earn more (1.2k +- 1.1 USD/ month) than other data professionals. [(Salary for DS in India)](http://https://www.interviewbit.com/blog/data-scientist-salary/)\n",
    "* That's one tenth of the [USA salary](http://https://www.datasciencelearner.com/data-scientist-salary/)\n",
    "* Data analysts earn 0.6k +- 0.4 USD/ month\n",
    "* Deviation in Salary is larger for data scientists, which means that career progression may be accessible for this career than for data analysts."
   ]
  },
  {
   "cell_type": "code",
   "execution_count": 19,
   "id": "fb74d93f",
   "metadata": {
    "execution": {
     "iopub.execute_input": "2022-02-17T19:29:19.371223Z",
     "iopub.status.busy": "2022-02-17T19:29:19.370567Z",
     "iopub.status.idle": "2022-02-17T19:29:19.393183Z",
     "shell.execute_reply": "2022-02-17T19:29:19.393648Z",
     "shell.execute_reply.started": "2022-02-17T19:26:56.789772Z"
    },
    "papermill": {
     "duration": 0.061843,
     "end_time": "2022-02-17T19:29:19.393824",
     "exception": false,
     "start_time": "2022-02-17T19:29:19.331981",
     "status": "completed"
    },
    "tags": []
   },
   "outputs": [
    {
     "data": {
      "text/html": [
       "<div>\n",
       "<style scoped>\n",
       "    .dataframe tbody tr th:only-of-type {\n",
       "        vertical-align: middle;\n",
       "    }\n",
       "\n",
       "    .dataframe tbody tr th {\n",
       "        vertical-align: top;\n",
       "    }\n",
       "\n",
       "    .dataframe thead th {\n",
       "        text-align: right;\n",
       "    }\n",
       "</style>\n",
       "<table border=\"1\" class=\"dataframe\">\n",
       "  <thead>\n",
       "    <tr style=\"text-align: right;\">\n",
       "      <th></th>\n",
       "      <th>Salaries Reported</th>\n",
       "      <th>USD/month</th>\n",
       "      <th>BRL/month</th>\n",
       "    </tr>\n",
       "  </thead>\n",
       "  <tbody>\n",
       "    <tr>\n",
       "      <th>count</th>\n",
       "      <td>986.000000</td>\n",
       "      <td>987.000000</td>\n",
       "      <td>987.000000</td>\n",
       "    </tr>\n",
       "    <tr>\n",
       "      <th>mean</th>\n",
       "      <td>4.526369</td>\n",
       "      <td>638.605986</td>\n",
       "      <td>3301.668666</td>\n",
       "    </tr>\n",
       "    <tr>\n",
       "      <th>std</th>\n",
       "      <td>6.633695</td>\n",
       "      <td>423.410698</td>\n",
       "      <td>2189.083511</td>\n",
       "    </tr>\n",
       "    <tr>\n",
       "      <th>min</th>\n",
       "      <td>1.000000</td>\n",
       "      <td>12.008947</td>\n",
       "      <td>62.087680</td>\n",
       "    </tr>\n",
       "    <tr>\n",
       "      <th>25%</th>\n",
       "      <td>1.000000</td>\n",
       "      <td>373.387857</td>\n",
       "      <td>1930.459492</td>\n",
       "    </tr>\n",
       "    <tr>\n",
       "      <th>50%</th>\n",
       "      <td>3.000000</td>\n",
       "      <td>563.774198</td>\n",
       "      <td>2914.779448</td>\n",
       "    </tr>\n",
       "    <tr>\n",
       "      <th>75%</th>\n",
       "      <td>5.000000</td>\n",
       "      <td>783.051307</td>\n",
       "      <td>4048.468100</td>\n",
       "    </tr>\n",
       "    <tr>\n",
       "      <th>max</th>\n",
       "      <td>86.000000</td>\n",
       "      <td>4190.667198</td>\n",
       "      <td>21666.246281</td>\n",
       "    </tr>\n",
       "  </tbody>\n",
       "</table>\n",
       "</div>"
      ],
      "text/plain": [
       "       Salaries Reported    USD/month     BRL/month\n",
       "count         986.000000   987.000000    987.000000\n",
       "mean            4.526369   638.605986   3301.668666\n",
       "std             6.633695   423.410698   2189.083511\n",
       "min             1.000000    12.008947     62.087680\n",
       "25%             1.000000   373.387857   1930.459492\n",
       "50%             3.000000   563.774198   2914.779448\n",
       "75%             5.000000   783.051307   4048.468100\n",
       "max            86.000000  4190.667198  21666.246281"
      ]
     },
     "execution_count": 19,
     "metadata": {},
     "output_type": "execute_result"
    }
   ],
   "source": [
    "sal[sal['Job Title']=='Data Analyst'].describe()"
   ]
  },
  {
   "cell_type": "code",
   "execution_count": 20,
   "id": "3207e9f1",
   "metadata": {
    "execution": {
     "iopub.execute_input": "2022-02-17T19:29:19.473582Z",
     "iopub.status.busy": "2022-02-17T19:29:19.472897Z",
     "iopub.status.idle": "2022-02-17T19:29:19.489422Z",
     "shell.execute_reply": "2022-02-17T19:29:19.489943Z",
     "shell.execute_reply.started": "2022-02-17T19:26:56.813966Z"
    },
    "papermill": {
     "duration": 0.059715,
     "end_time": "2022-02-17T19:29:19.490131",
     "exception": false,
     "start_time": "2022-02-17T19:29:19.430416",
     "status": "completed"
    },
    "tags": []
   },
   "outputs": [
    {
     "data": {
      "text/html": [
       "<div>\n",
       "<style scoped>\n",
       "    .dataframe tbody tr th:only-of-type {\n",
       "        vertical-align: middle;\n",
       "    }\n",
       "\n",
       "    .dataframe tbody tr th {\n",
       "        vertical-align: top;\n",
       "    }\n",
       "\n",
       "    .dataframe thead th {\n",
       "        text-align: right;\n",
       "    }\n",
       "</style>\n",
       "<table border=\"1\" class=\"dataframe\">\n",
       "  <thead>\n",
       "    <tr style=\"text-align: right;\">\n",
       "      <th></th>\n",
       "      <th>Salaries Reported</th>\n",
       "      <th>USD/month</th>\n",
       "      <th>BRL/month</th>\n",
       "    </tr>\n",
       "  </thead>\n",
       "  <tbody>\n",
       "    <tr>\n",
       "      <th>count</th>\n",
       "      <td>1932.000000</td>\n",
       "      <td>1932.000000</td>\n",
       "      <td>1932.000000</td>\n",
       "    </tr>\n",
       "    <tr>\n",
       "      <th>mean</th>\n",
       "      <td>2.334369</td>\n",
       "      <td>1256.940008</td>\n",
       "      <td>6498.528872</td>\n",
       "    </tr>\n",
       "    <tr>\n",
       "      <th>std</th>\n",
       "      <td>4.684118</td>\n",
       "      <td>1198.037966</td>\n",
       "      <td>6193.998328</td>\n",
       "    </tr>\n",
       "    <tr>\n",
       "      <th>min</th>\n",
       "      <td>1.000000</td>\n",
       "      <td>56.205737</td>\n",
       "      <td>290.590322</td>\n",
       "    </tr>\n",
       "    <tr>\n",
       "      <th>25%</th>\n",
       "      <td>1.000000</td>\n",
       "      <td>575.785366</td>\n",
       "      <td>2976.878610</td>\n",
       "    </tr>\n",
       "    <tr>\n",
       "      <th>50%</th>\n",
       "      <td>1.000000</td>\n",
       "      <td>1006.711560</td>\n",
       "      <td>5204.818124</td>\n",
       "    </tr>\n",
       "    <tr>\n",
       "      <th>75%</th>\n",
       "      <td>2.000000</td>\n",
       "      <td>1586.209327</td>\n",
       "      <td>8200.890290</td>\n",
       "    </tr>\n",
       "    <tr>\n",
       "      <th>max</th>\n",
       "      <td>105.000000</td>\n",
       "      <td>20886.226254</td>\n",
       "      <td>107984.266113</td>\n",
       "    </tr>\n",
       "  </tbody>\n",
       "</table>\n",
       "</div>"
      ],
      "text/plain": [
       "       Salaries Reported     USD/month      BRL/month\n",
       "count        1932.000000   1932.000000    1932.000000\n",
       "mean            2.334369   1256.940008    6498.528872\n",
       "std             4.684118   1198.037966    6193.998328\n",
       "min             1.000000     56.205737     290.590322\n",
       "25%             1.000000    575.785366    2976.878610\n",
       "50%             1.000000   1006.711560    5204.818124\n",
       "75%             2.000000   1586.209327    8200.890290\n",
       "max           105.000000  20886.226254  107984.266113"
      ]
     },
     "execution_count": 20,
     "metadata": {},
     "output_type": "execute_result"
    }
   ],
   "source": [
    "sal[sal['Job Title']=='Data Scientist'].describe()"
   ]
  },
  {
   "cell_type": "code",
   "execution_count": 21,
   "id": "9b32aedb",
   "metadata": {
    "execution": {
     "iopub.execute_input": "2022-02-17T19:29:19.569590Z",
     "iopub.status.busy": "2022-02-17T19:29:19.568969Z",
     "iopub.status.idle": "2022-02-17T19:29:19.925692Z",
     "shell.execute_reply": "2022-02-17T19:29:19.924752Z",
     "shell.execute_reply.started": "2022-02-17T19:26:56.838511Z"
    },
    "papermill": {
     "duration": 0.396803,
     "end_time": "2022-02-17T19:29:19.925840",
     "exception": false,
     "start_time": "2022-02-17T19:29:19.529037",
     "status": "completed"
    },
    "tags": []
   },
   "outputs": [
    {
     "data": {
      "image/png": "[encoded data removed]",
      "text/plain": [
       "<Figure size 432x432 with 1 Axes>"
      ]
     },
     "metadata": {},
     "output_type": "display_data"
    }
   ],
   "source": [
    "sns.set_theme() \n",
    "sns.set_style(\"darkgrid\")\n",
    "plt.figure(figsize=(6,6))\n",
    "plt.title(\"Salary of Data Professionals in India\")\n",
    "sns.violinplot( x=\"USD/month\",y=\"Job Title\", data=sal)\n",
    "plt.xlim(0,3000)\n",
    "plt.show()"
   ]
  },
  {
   "cell_type": "markdown",
   "id": "fcefcf30",
   "metadata": {
    "papermill": {
     "duration": 0.038747,
     "end_time": "2022-02-17T19:29:20.003990",
     "exception": false,
     "start_time": "2022-02-17T19:29:19.965243",
     "status": "completed"
    },
    "tags": []
   },
   "source": [
    "## Salary in USD vs. Location insights\n",
    "* DScientists earn about 10% more in Bangalore"
   ]
  },
  {
   "cell_type": "code",
   "execution_count": 22,
   "id": "fb5ad7eb",
   "metadata": {
    "execution": {
     "iopub.execute_input": "2022-02-17T19:29:20.085151Z",
     "iopub.status.busy": "2022-02-17T19:29:20.084239Z",
     "iopub.status.idle": "2022-02-17T19:29:20.414217Z",
     "shell.execute_reply": "2022-02-17T19:29:20.414721Z",
     "shell.execute_reply.started": "2022-02-17T19:26:57.158150Z"
    },
    "papermill": {
     "duration": 0.371971,
     "end_time": "2022-02-17T19:29:20.414881",
     "exception": false,
     "start_time": "2022-02-17T19:29:20.042910",
     "status": "completed"
    },
    "tags": []
   },
   "outputs": [
    {
     "data": {
      "image/png": "[encoded data removed]",
      "text/plain": [
       "<Figure size 432x432 with 1 Axes>"
      ]
     },
     "metadata": {},
     "output_type": "display_data"
    }
   ],
   "source": [
    "plt.figure(figsize=(6,6))\n",
    "sns.violinplot(y=\"Location\", x=\"USD/month\", data=sal,size=0.8)\n",
    "plt.xlim(0,2000)\n",
    "plt.show()"
   ]
  }
 ],
 "metadata": {
  "kernelspec": {
   "display_name": "Python 3",
   "language": "python",
   "name": "python3"
  },
  "language_info": {
   "codemirror_mode": {
    "name": "ipython",
    "version": 3
   },
   "file_extension": ".py",
   "mimetype": "text/x-python",
   "name": "python",
   "nbconvert_exporter": "python",
   "pygments_lexer": "ipython3",
   "version": "3.7.12"
  },
  "papermill": {
   "default_parameters": {},
   "duration": 15.582886,
   "end_time": "2022-02-17T19:29:21.166555",
   "environment_variables": {},
   "exception": null,
   "input_path": "__notebook__.ipynb",
   "output_path": "__notebook__.ipynb",
   "parameters": {},
   "start_time": "2022-02-17T19:29:05.583669",
   "version": "2.3.3"
  }
 },
 "nbformat": 4,
 "nbformat_minor": 5
}
